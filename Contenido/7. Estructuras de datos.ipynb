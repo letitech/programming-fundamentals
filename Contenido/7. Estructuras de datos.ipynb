{
 "cells": [
  {
   "cell_type": "markdown",
   "metadata": {},
   "source": [
    "# **Estructuras de Datos**"
   ]
  },
  {
   "cell_type": "markdown",
   "metadata": {},
   "source": [
    "## **Objetivo**\n",
    "Al finalizar esta lección, los estudiantes entenderán las principales estructuras de datos en Python, cómo funcionan y cómo utilizarlas en la programación."
   ]
  },
  {
   "cell_type": "markdown",
   "metadata": {},
   "source": [
    "### **1. Introducción a las Estructuras de Datos**"
   ]
  },
  {
   "cell_type": "markdown",
   "metadata": {},
   "source": [
    "**Definición:** Las estructuras de datos son formas de organizar y almacenar datos para que puedan ser accedidos y modificados de manera eficiente.\n",
    "\n",
    "**Importancia:** La elección de la estructura de datos adecuada puede mejorar el rendimiento de un programa y simplificar el desarrollo de algoritmos."
   ]
  },
  {
   "cell_type": "markdown",
   "metadata": {},
   "source": [
    "### **2. Tipos de Estructuras de Datos en Python**"
   ]
  },
  {
   "cell_type": "markdown",
   "metadata": {},
   "source": [
    "#### **2.1. Listas**\n",
    "**Definición:** Una lista es una colección ordenada de elementos que pueden ser de diferentes tipos.\n",
    "\n",
    "**Sintaxis:**\n",
    "\n",
    "```python\n",
    "my_list = [1, 2, 3, 4, 5]\n",
    "```\n",
    "\n",
    "**Operaciones comunes::**\n",
    "\n",
    "```python\n",
    "Acceso a elementos: my_list[0] (primer elemento)\n",
    "Añadir elementos: my_list.append(6)\n",
    "Eliminar elementos: my_list.pop(3)\n",
    "Longitud de la lista: len(my_list)\n",
    "```"
   ]
  },
  {
   "cell_type": "markdown",
   "metadata": {},
   "source": [
    "#### **2.2. Tuplas**\n",
    "**Definición:** Una tupla es una colección ordenada de elementos que son inmutables (no pueden ser modificados después de su creación).\n",
    "\n",
    "**Sintaxis:**\n",
    "\n",
    "```python\n",
    "my_tuple = (1, 2, 3)\n",
    "```\n",
    "\n",
    "**Operaciones comunes:**\n",
    "```python\n",
    "Acceso a elementos: my_tuple[1] (segundo elemento)\n",
    "Longitud de la tupla: len(my_tuple)\n",
    "```"
   ]
  },
  {
   "cell_type": "markdown",
   "metadata": {},
   "source": [
    "#### **2.3. Conjuntos**\n",
    "**Definición:** Un conjunto es una colección desordenada de elementos únicos.\n",
    "\n",
    "**Sintaxis:**\n",
    "\n",
    "```python\n",
    "my_set = {1, 2, 3, 4}\n",
    "```\n",
    "\n",
    "**Operaciones comunes:**\n",
    "```python\n",
    "Añadir elementos: my_set.add(5)\n",
    "Eliminar elementos: my_set.remove(2)\n",
    "Operaciones de conjuntos: my_set.union({6, 7}), my_set.intersection({3, 4})\n",
    "```"
   ]
  },
  {
   "cell_type": "markdown",
   "metadata": {},
   "source": [
    "#### **2.4. Diccionarios**\n",
    "**Definición:** Un diccionario es una colección desordenada de pares clave-valor.\n",
    "\n",
    "**Sintaxis:**\n",
    "\n",
    "```python\n",
    "my_dict = {'name': 'Alice', 'age': 25}\n",
    "```\n",
    "\n",
    "**Operaciones comunes:**\n",
    "\n",
    "```python\n",
    "Acceso a valores: my_dict['name'] (obtiene 'Alice')\n",
    "Añadir/actualizar valores: my_dict['age'] = 26\n",
    "Eliminar pares: del my_dict['name']\n",
    "Longitud del diccionario: len(my_dict)\n",
    "```"
   ]
  },
  {
   "cell_type": "markdown",
   "metadata": {},
   "source": [
    "### **3. Comparación de Estructuras de Datos**"
   ]
  },
  {
   "cell_type": "markdown",
   "metadata": {},
   "source": [
    "**Listas vs. Tuplas:** Las listas son mutables y tienen un mayor uso cuando se necesita modificar los datos, mientras que las tuplas son inmutables y se usan cuando los datos no deben cambiar.\n",
    "\n",
    "**Conjuntos vs. Listas:** Los conjuntos son útiles cuando se necesita garantizar la unicidad de los elementos, mientras que las listas permiten elementos duplicados y mantienen el orden de inserción.\n",
    "\n",
    "**Diccionarios vs. Listas:** Los diccionarios permiten un acceso rápido a los datos a través de claves, mientras que las listas son mejores para datos ordenados que necesitan ser accedidos por posición."
   ]
  },
  {
   "cell_type": "markdown",
   "metadata": {},
   "source": [
    "#### **4. Ejemplos Prácticos**"
   ]
  },
  {
   "cell_type": "markdown",
   "metadata": {},
   "source": [
    "Listas"
   ]
  },
  {
   "cell_type": "code",
   "execution_count": 6,
   "metadata": {},
   "outputs": [
    {
     "name": "stdout",
     "output_type": "stream",
     "text": [
      "banana\n",
      "['apple', 'cherry', 'orange']\n"
     ]
    }
   ],
   "source": [
    "fruits = ['apple', 'banana', 'cherry']\n",
    "fruits.append('orange')\n",
    "print(fruits[1])\n",
    "fruits.pop(1)\n",
    "print(fruits)"
   ]
  },
  {
   "cell_type": "markdown",
   "metadata": {},
   "source": [
    "Tuplas"
   ]
  },
  {
   "cell_type": "code",
   "execution_count": 11,
   "metadata": {},
   "outputs": [
    {
     "name": "stdout",
     "output_type": "stream",
     "text": [
      "10\n",
      "(10, 20, 'hola', 10)\n"
     ]
    }
   ],
   "source": [
    "coordinates = (10, 20, \"hola\", 10)\n",
    "print(coordinates[0])\n",
    "print(coordinates)"
   ]
  },
  {
   "cell_type": "markdown",
   "metadata": {},
   "source": [
    "Conjuntos"
   ]
  },
  {
   "cell_type": "code",
   "execution_count": 13,
   "metadata": {},
   "outputs": [
    {
     "name": "stdout",
     "output_type": "stream",
     "text": [
      "{1, 2, 3, 4}\n"
     ]
    }
   ],
   "source": [
    "unique_numbers = {1, 2, 3, 4, 4}\n",
    "unique_numbers.add(2)  # No se añadirá porque ya existe\n",
    "print(unique_numbers)"
   ]
  },
  {
   "cell_type": "markdown",
   "metadata": {},
   "source": [
    "Diccionarios"
   ]
  },
  {
   "cell_type": "code",
   "execution_count": 2,
   "metadata": {},
   "outputs": [
    {
     "name": "stdout",
     "output_type": "stream",
     "text": [
      "{'name': 'Daniel', 'age': 23, 'lastname': 'Daniel', 'address': 'Malabo, Rotonda del balón'}\n"
     ]
    }
   ],
   "source": [
    "student = {'name': 'Daniel', 'age': 20, \"lastname\": \"Daniel\"}\n",
    "#student['name'] = \"Fernamdo\"\n",
    "student['age'] = 23\n",
    "student['address'] = \"Malabo, Rotonda del balón\"\n",
    "print(student)"
   ]
  },
  {
   "cell_type": "code",
   "execution_count": 3,
   "metadata": {},
   "outputs": [
    {
     "name": "stdout",
     "output_type": "stream",
     "text": [
      "Hola : Es un saludo informal\n",
      "Amor : Es un sentimiento\n",
      "Lucha : Es un sentimiento, intercambi de golpes\n"
     ]
    }
   ],
   "source": [
    "dictionary = dict()\n",
    "\n",
    "answer = input(\"Quieres agregar algo (Si, No)\")\n",
    "\n",
    "while answer == \"Si\":\n",
    "    word = input(\"Agrega una palabra\") \n",
    "    meaning = input(\"Agrega su significado\")\n",
    "    dictionary[word] = meaning\n",
    "    answer = input(\"Quieres agregar algo más (Si, No)\")\n",
    "    \n",
    "for key, value in dictionary.items():\n",
    "    print(key, \":\", value) "
   ]
  }
 ],
 "metadata": {
  "kernelspec": {
   "display_name": "Python 3",
   "language": "python",
   "name": "python3"
  },
  "language_info": {
   "codemirror_mode": {
    "name": "ipython",
    "version": 3
   },
   "file_extension": ".py",
   "mimetype": "text/x-python",
   "name": "python",
   "nbconvert_exporter": "python",
   "pygments_lexer": "ipython3",
   "version": "3.11.2"
  }
 },
 "nbformat": 4,
 "nbformat_minor": 2
}

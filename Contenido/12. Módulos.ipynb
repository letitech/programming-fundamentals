{
 "cells": [
  {
   "cell_type": "markdown",
   "metadata": {},
   "source": [
    "# **Módulos**"
   ]
  },
  {
   "cell_type": "markdown",
   "metadata": {},
   "source": [
    "## **Objetivo**\n",
    "Al finalizar esta lección, los estudiantes deben ser comprender qué son los módulos en Python, utilizar módulos integrados y externos en sus programas, crear sus propios módulos y organizarlos en paquetes."
   ]
  },
  {
   "cell_type": "markdown",
   "metadata": {},
   "source": [
    "### **1. ¿Qué es un Módulo en Python?**"
   ]
  },
  {
   "cell_type": "markdown",
   "metadata": {},
   "source": [
    "Un módulo es simplemente un archivo que contiene definiciones y declaraciones en Python. Puede incluir funciones, clases, y variables, que luego se pueden importar y reutilizar en otros programas. Los módulos permiten dividir el código en partes más manejables y reutilizables.\n",
    "\n",
    "Ejemplo simple de un módulo:\n",
    "\n",
    "Si tenemos un archivo llamado mimodulo.py con el siguiente contenido:"
   ]
  },
  {
   "cell_type": "code",
   "execution_count": null,
   "metadata": {},
   "outputs": [],
   "source": [
    "# mimodulo.py\n",
    "def saludar():\n",
    "    print(\"Hola desde el módulo\")"
   ]
  },
  {
   "cell_type": "markdown",
   "metadata": {},
   "source": [
    "Este archivo es un módulo que puede ser importado y utilizado en otro archivo Python."
   ]
  },
  {
   "cell_type": "code",
   "execution_count": null,
   "metadata": {},
   "outputs": [],
   "source": [
    "# principal.py\n",
    "import mimodulo\n",
    "\n",
    "mimodulo.saludar()  # Esto imprimirá: Hola desde el módulo"
   ]
  },
  {
   "cell_type": "markdown",
   "metadata": {},
   "source": [
    "### **2. Importando Módulos**"
   ]
  },
  {
   "cell_type": "markdown",
   "metadata": {},
   "source": [
    "Python tiene muchos módulos integrados que puedes usar. Algunos ejemplos comunes son math, random y os.\n",
    "\n",
    "**Sintaxis básica de importación:**\n",
    "\n",
    "```python\n",
    "import nombre_modulo\n",
    "````\n",
    "\n",
    "**Ejemplos con módulos integrados:**\n",
    "\n",
    "* **Módulo math:** Proporciona funciones matemáticas."
   ]
  },
  {
   "cell_type": "code",
   "execution_count": null,
   "metadata": {},
   "outputs": [],
   "source": [
    "import math\n",
    "print(math.sqrt(16))  # Imprime 4.0"
   ]
  },
  {
   "cell_type": "markdown",
   "metadata": {},
   "source": [
    "* Módulo random: Permite trabajar con valores aleatorios."
   ]
  },
  {
   "cell_type": "code",
   "execution_count": null,
   "metadata": {},
   "outputs": [],
   "source": [
    "import random\n",
    "print(random.randint(1, 10))  # Imprime un número entero aleatorio entre 1 y 10"
   ]
  },
  {
   "cell_type": "markdown",
   "metadata": {},
   "source": [
    "**Importando solo funciones específicas:**\n",
    "\n",
    "Si solo quieres importar una función específica de un módulo:"
   ]
  },
  {
   "cell_type": "code",
   "execution_count": null,
   "metadata": {},
   "outputs": [],
   "source": [
    "from math import sqrt\n",
    "\n",
    "print(sqrt(9))  # Imprime 3.0"
   ]
  },
  {
   "cell_type": "markdown",
   "metadata": {},
   "source": [
    "### **3. Alias para Módulos y Funciones**"
   ]
  },
  {
   "cell_type": "markdown",
   "metadata": {},
   "source": [
    "Puedes usar alias para renombrar los módulos o funciones al importarlos, lo cual puede ser útil para abreviar nombres largos."
   ]
  },
  {
   "cell_type": "code",
   "execution_count": 7,
   "metadata": {},
   "outputs": [
    {
     "name": "stdout",
     "output_type": "stream",
     "text": [
      "Dexter\n"
     ]
    }
   ],
   "source": [
    "import math as m\n",
    "\n",
    "print(m.pi)  # Imprime 3.14159..."
   ]
  },
  {
   "cell_type": "markdown",
   "metadata": {},
   "source": [
    "También puedes usar alias para funciones:"
   ]
  },
  {
   "cell_type": "code",
   "execution_count": 14,
   "metadata": {},
   "outputs": [
    {
     "name": "stdout",
     "output_type": "stream",
     "text": [
      "Dexter\n"
     ]
    }
   ],
   "source": [
    "from math import sqrt as raiz_cuadrada\n",
    "print(raiz_cuadrada(25))  # Imprime 5.0"
   ]
  },
  {
   "cell_type": "markdown",
   "metadata": {},
   "source": [
    "### **4. Creando Módulos Propios**"
   ]
  },
  {
   "cell_type": "markdown",
   "metadata": {},
   "source": [
    "Para crear un módulo propio, solo necesitas escribir un archivo Python con funciones o variables. Luego, puedes importarlo en otros archivos.\n",
    "\n",
    "Ejemplo:\n",
    "\n",
    "Archivo aritmetica.py:"
   ]
  },
  {
   "cell_type": "code",
   "execution_count": 18,
   "metadata": {},
   "outputs": [
    {
     "name": "stdout",
     "output_type": "stream",
     "text": [
      "Crescencio Esono.\n",
      "\n"
     ]
    }
   ],
   "source": [
    "def sumar(a, b):\n",
    "    return a + b\n",
    "\n",
    "def restar(a, b):\n",
    "    return a - b"
   ]
  },
  {
   "cell_type": "markdown",
   "metadata": {},
   "source": [
    "Archivo main.py:"
   ]
  },
  {
   "cell_type": "code",
   "execution_count": 19,
   "metadata": {},
   "outputs": [
    {
     "name": "stdout",
     "output_type": "stream",
     "text": [
      "Línea 1\n",
      "Línea 2\n",
      "Línea 3\n",
      "\n"
     ]
    }
   ],
   "source": [
    "import aritmetica\n",
    "\n",
    "resultado = aritmetica.sumar(5, 3)\n",
    "print(resultado)  # Imprime 8"
   ]
  },
  {
   "cell_type": "markdown",
   "metadata": {},
   "source": [
    "### **5. Paquetes: Organizando Módulos**"
   ]
  },
  {
   "cell_type": "markdown",
   "metadata": {},
   "source": [
    "Un paquete es una colección de módulos organizados en directorios, lo que te permite estructurar mejor tus proyectos. Para crear un paquete, simplemente coloca tus módulos en una carpeta y agrega un archivo _init_.py.\n",
    "\n",
    "Ejemplo:\n",
    "\n",
    "Estructura de carpetas:\n",
    "\n",
    "```python\n",
    "mi_paquete/\n",
    "    _init_.py\n",
    "    operaciones.py\n",
    "    conversiones.py\n",
    "```    "
   ]
  },
  {
   "cell_type": "code",
   "execution_count": 1,
   "metadata": {},
   "outputs": [],
   "source": [
    "#operaciones.py:\n",
    "def multiplicar(a, b):\n",
    "    return a * b"
   ]
  },
  {
   "cell_type": "code",
   "execution_count": null,
   "metadata": {},
   "outputs": [],
   "source": [
    "#conversiones.py:\n",
    "def a_dolares(euros):\n",
    "    return euros * 1.1"
   ]
  },
  {
   "cell_type": "markdown",
   "metadata": {},
   "source": [
    "Ahora puedes importar los módulos desde el paquete:"
   ]
  },
  {
   "cell_type": "code",
   "execution_count": null,
   "metadata": {},
   "outputs": [],
   "source": [
    "from mi_paquete import operaciones, conversiones\n",
    "\n",
    "print(operaciones.multiplicar(3, 4))  # Imprime 12\n",
    "print(conversiones.a_dolares(50))     # Imprime 55.0"
   ]
  },
  {
   "cell_type": "markdown",
   "metadata": {},
   "source": [
    "### **6. Módulos Externos: Instalación con pip**"
   ]
  },
  {
   "cell_type": "markdown",
   "metadata": {},
   "source": [
    "Puedes instalar módulos externos usando pip, el gestor de paquetes de Python. Por ejemplo, para instalar el módulo requests (que se usa para hacer peticiones HTTP):\n",
    "\n",
    "```python\n",
    "pip install requests\n",
    "```\n",
    "\n",
    "Luego, puedes importarlo y usarlo en tu programa:"
   ]
  },
  {
   "cell_type": "code",
   "execution_count": 2,
   "metadata": {},
   "outputs": [
    {
     "name": "stdout",
     "output_type": "stream",
     "text": [
      "200\n"
     ]
    }
   ],
   "source": [
    "import requests\n",
    "\n",
    "respuesta = requests.get('https://api.github.com')\n",
    "print(respuesta.status_code)  # Imprime el código de estado de la respuesta"
   ]
  }
 ],
 "metadata": {
  "kernelspec": {
   "display_name": "Python 3",
   "language": "python",
   "name": "python3"
  },
  "language_info": {
   "codemirror_mode": {
    "name": "ipython",
    "version": 3
   },
   "file_extension": ".py",
   "mimetype": "text/x-python",
   "name": "python",
   "nbconvert_exporter": "python",
   "pygments_lexer": "ipython3",
   "version": "3.11.2"
  }
 },
 "nbformat": 4,
 "nbformat_minor": 2
}

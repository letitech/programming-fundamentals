{
 "cells": [
  {
   "cell_type": "markdown",
   "metadata": {},
   "source": [
    "# **Módulos**"
   ]
  },
  {
   "cell_type": "markdown",
   "metadata": {},
   "source": [
    "## **Objetivo**\n",
    "Al finalizar esta lección, los estudiantes deben ser comprender qué son los módulos en Python, utilizar módulos integrados y externos en sus programas, crear sus propios módulos y organizarlos en paquetes."
   ]
  },
  {
   "cell_type": "markdown",
   "metadata": {},
   "source": [
    "### **1. ¿Qué es un Módulo en Python?**"
   ]
  },
  {
   "cell_type": "markdown",
   "metadata": {},
   "source": [
    "Un módulo es simplemente un archivo que contiene definiciones y declaraciones en Python. Puede incluir funciones, clases, y variables, que luego se pueden importar y reutilizar en otros programas. Los módulos permiten dividir el código en partes más manejables y reutilizables.\n",
    "\n",
    "Ejemplo simple de un módulo:\n",
    "\n",
    "Si tenemos un archivo llamado mimodulo.py con el siguiente contenido:"
   ]
  },
  {
   "cell_type": "code",
   "execution_count": null,
   "metadata": {},
   "outputs": [],
   "source": [
    "# mimodulo.py\n",
    "def saludar():\n",
    "    print(\"Hola desde el módulo\")"
   ]
  },
  {
   "cell_type": "markdown",
   "metadata": {},
   "source": [
    "Este archivo es un módulo que puede ser importado y utilizado en otro archivo Python."
   ]
  },
  {
   "cell_type": "code",
   "execution_count": null,
   "metadata": {},
   "outputs": [],
   "source": [
    "# principal.py\n",
    "import mimodulo\n",
    "\n",
    "mimodulo.saludar()  # Esto imprimirá: Hola desde el módulo"
   ]
  },
  {
   "cell_type": "markdown",
   "metadata": {},
   "source": [
    "### **2. Importando Módulos**"
   ]
  },
  {
   "cell_type": "markdown",
   "metadata": {},
   "source": [
    "Python tiene muchos módulos integrados que puedes usar. Algunos ejemplos comunes son math, random y os.\n",
    "\n",
    "**Sintaxis básica de importación:**\n",
    "\n",
    "```python\n",
    "import nombre_modulo\n",
    "````\n",
    "\n",
    "**Ejemplos con módulos integrados:**\n",
    "\n",
    "* **Módulo math:** Proporciona funciones matemáticas."
   ]
  },
  {
   "cell_type": "code",
   "execution_count": null,
   "metadata": {},
   "outputs": [],
   "source": [
    "import math\n",
    "print(math.sqrt(16))  # Imprime 4.0"
   ]
  },
  {
   "cell_type": "markdown",
   "metadata": {},
   "source": [
    "* Módulo random: Permite trabajar con valores aleatorios."
   ]
  },
  {
   "cell_type": "code",
   "execution_count": null,
   "metadata": {},
   "outputs": [],
   "source": [
    "import random\n",
    "print(random.randint(1, 10))  # Imprime un número entero aleatorio entre 1 y 10"
   ]
  },
  {
   "cell_type": "markdown",
   "metadata": {},
   "source": [
    "**Importando solo funciones específicas:**\n",
    "\n",
    "Si solo quieres importar una función específica de un módulo:"
   ]
  },
  {
   "cell_type": "code",
   "execution_count": null,
   "metadata": {},
   "outputs": [],
   "source": [
    "from math import sqrt\n",
    "\n",
    "print(sqrt(9))  # Imprime 3.0"
   ]
  },
  {
   "cell_type": "markdown",
   "metadata": {},
   "source": [
    "#### **2.1. Módulo os**"
   ]
  },
  {
   "cell_type": "markdown",
   "metadata": {},
   "source": [
    "El módulo os ofrece una interfaz para realizar tareas relacionadas con el sistema operativo, como:\n",
    "\n",
    "* Manipulación de archivos y directorios (crear, eliminar, renombrar).\n",
    "\n",
    "* Navegación en el sistema de archivos.\n",
    "\n",
    "* Ejecutar comandos del sistema.\n",
    "\n",
    "* Obtener información del entorno del sistema operativo"
   ]
  },
  {
   "cell_type": "markdown",
   "metadata": {},
   "source": [
    "##### **2.1.1. Manipulación de archivos y directorios**"
   ]
  },
  {
   "cell_type": "markdown",
   "metadata": {},
   "source": [
    "El módulo os permite realizar operaciones como crear, renombrar y eliminar archivos o directorios.\n",
    "\n",
    "Crear directorios:\n",
    "\n",
    "* os.mkdir(path): Crea un directorio en la ruta especificada.\n",
    "\n",
    "* os.makedirs(path): Crea un directorio y cualquier directorio intermedio que no exista."
   ]
  },
  {
   "cell_type": "code",
   "execution_count": null,
   "metadata": {},
   "outputs": [],
   "source": [
    "import os\n",
    "\n",
    "# Crear un directorio\n",
    "os.mkdir('mi_directorio')\n",
    "\n",
    "# Crear varios directorios anidados\n",
    "os.makedirs('carpeta1/carpeta2/carpeta3')"
   ]
  },
  {
   "cell_type": "markdown",
   "metadata": {},
   "source": [
    "Eliminar directorios y archivos:\n",
    "\n",
    "* os.rmdir(path): Elimina un directorio vacío.\n",
    "\n",
    "* os.remove(path): Elimina un archivo.\n",
    "\n",
    "* os.removedirs(path): Elimina un directorio y todos sus subdirectorios si están vacíos."
   ]
  },
  {
   "cell_type": "code",
   "execution_count": null,
   "metadata": {},
   "outputs": [],
   "source": [
    "# Eliminar un archivo\n",
    "os.remove('archivo.txt')\n",
    "\n",
    "# Eliminar un directorio vacío\n",
    "os.rmdir('mi_directorio')\n",
    "\n",
    "# Eliminar un árbol de directorios vacíos\n",
    "os.removedirs('carpeta1/carpeta2/carpeta3')"
   ]
  },
  {
   "cell_type": "markdown",
   "metadata": {},
   "source": [
    "Renombrar archivos o directorios:\n",
    "\n",
    "* os.rename(src, dst): Cambia el nombre de un archivo o directorio."
   ]
  },
  {
   "cell_type": "code",
   "execution_count": null,
   "metadata": {},
   "outputs": [],
   "source": [
    "# Renombrar un archivo\n",
    "os.rename('archivo_viejo.txt', 'archivo_nuevo.txt')"
   ]
  },
  {
   "cell_type": "markdown",
   "metadata": {},
   "source": [
    "##### **2.1.2. Navegación en el sistema de archivos**"
   ]
  },
  {
   "cell_type": "markdown",
   "metadata": {},
   "source": [
    "El módulo os también permite navegar entre directorios, obtener la ruta actual y listar los contenidos de un directorio.\n",
    "\n",
    "Obtener el directorio actual:\n",
    "\n",
    "* os.getcwd(): Devuelve el directorio de trabajo actual."
   ]
  },
  {
   "cell_type": "code",
   "execution_count": null,
   "metadata": {},
   "outputs": [],
   "source": [
    "# Obtener el directorio actual\n",
    "directorio_actual = os.getcwd()\n",
    "print('Directorio actual:', directorio_actual)"
   ]
  },
  {
   "cell_type": "markdown",
   "metadata": {},
   "source": [
    "Cambiar el directorio de trabajo:\n",
    "\n",
    "* os.chdir(path): Cambia el directorio de trabajo actual a la ruta especificada."
   ]
  },
  {
   "cell_type": "code",
   "execution_count": null,
   "metadata": {},
   "outputs": [],
   "source": [
    "# Cambiar al directorio 'mi_directorio'\n",
    "os.chdir('mi_directorio')"
   ]
  },
  {
   "cell_type": "markdown",
   "metadata": {},
   "source": [
    "Listar archivos en un directorio:\n",
    "\n",
    "* os.listdir(path): Devuelve una lista con los nombres de archivos y directorios en la ruta especificada."
   ]
  },
  {
   "cell_type": "code",
   "execution_count": null,
   "metadata": {},
   "outputs": [],
   "source": [
    "# Listar los archivos en el directorio actual\n",
    "archivos = os.listdir()\n",
    "print('Archivos en el directorio:', archivos)"
   ]
  },
  {
   "cell_type": "markdown",
   "metadata": {},
   "source": [
    "##### **2.1.3. Manejo de rutas de archivos**"
   ]
  },
  {
   "cell_type": "markdown",
   "metadata": {},
   "source": [
    "El módulo os proporciona funciones para trabajar con las rutas de archivos y directorios de forma eficiente.\n",
    "\n",
    "Unir rutas de forma portátil:\n",
    "\n",
    "* os.path.join(path1, path2): Une dos rutas de manera segura, teniendo en cuenta el sistema operativo."
   ]
  },
  {
   "cell_type": "code",
   "execution_count": null,
   "metadata": {},
   "outputs": [],
   "source": [
    "# Unir rutas\n",
    "ruta_completa = os.path.join('/ruta/al/directorio', 'archivo.txt')\n",
    "print('Ruta completa:', ruta_completa)"
   ]
  },
  {
   "cell_type": "markdown",
   "metadata": {},
   "source": [
    "Verificar la existencia de archivos o directorios:\n",
    "\n",
    "* os.path.exists(path): Devuelve True si la ruta existe."
   ]
  },
  {
   "cell_type": "code",
   "execution_count": null,
   "metadata": {},
   "outputs": [],
   "source": [
    "# Verificar si un archivo o directorio existe\n",
    "existe = os.path.exists('archivo.txt')\n",
    "print('El archivo existe:', existe)"
   ]
  },
  {
   "cell_type": "markdown",
   "metadata": {},
   "source": [
    "Comprobar si es un archivo o directorio:\n",
    "\n",
    "* os.path.isfile(path): Devuelve True si la ruta es un archivo."
   ]
  },
  {
   "cell_type": "code",
   "execution_count": null,
   "metadata": {},
   "outputs": [],
   "source": [
    "# Verificar si es un archivo\n",
    "es_archivo = os.path.isfile('archivo.txt')\n",
    "\n",
    "# Verificar si es un directorio\n",
    "es_directorio = os.path.isdir('mi_directorio')"
   ]
  },
  {
   "cell_type": "markdown",
   "metadata": {},
   "source": [
    "##### **2.1.4. Información del sistema**"
   ]
  },
  {
   "cell_type": "markdown",
   "metadata": {},
   "source": [
    "El módulo os también permite obtener información sobre el sistema operativo y el entorno en el que se está ejecutando el programa.\n",
    "\n",
    "Obtener el nombre del sistema operativo:\n",
    "\n",
    "* os.name: Devuelve una cadena que indica el tipo de sistema operativo. Los valores más comunes son 'posix' para sistemas tipo Unix y 'nt' para Windows.\n",
    "\n",
    "Obtener las variables de entorno:\n",
    "\n",
    "* os.environ: Devuelve un diccionario con las variables de entorno del sistema."
   ]
  },
  {
   "cell_type": "code",
   "execution_count": null,
   "metadata": {},
   "outputs": [],
   "source": [
    "# Obtener el nombre del sistema operativo\n",
    "sistema_operativo = os.name\n",
    "print('Sistema operativo:', sistema_operativo)\n",
    "\n",
    "# Obtener una variable de entorno específica\n",
    "usuario = os.environ.get('USER')  # En Windows se puede usar 'USERNAME'\n",
    "print('Usuario actual:', usuario)"
   ]
  },
  {
   "cell_type": "markdown",
   "metadata": {},
   "source": [
    "##### **2.1.5. Ejecutar comandos del sistema**"
   ]
  },
  {
   "cell_type": "markdown",
   "metadata": {},
   "source": [
    "El módulo os también permite ejecutar comandos del sistema desde Python.\n",
    "\n",
    "* os.system(command): Ejecuta un comando del sistema en la terminal o consola."
   ]
  },
  {
   "cell_type": "code",
   "execution_count": null,
   "metadata": {},
   "outputs": [],
   "source": [
    "# Ejecutar un comando del sistema (por ejemplo, listar archivos en Unix o Windows)\n",
    "# os.system('ls')  # En Unix o macOS\n",
    "os.system('dir')  # En Windows"
   ]
  },
  {
   "cell_type": "markdown",
   "metadata": {},
   "source": [
    "### **3. Alias para Módulos y Funciones**"
   ]
  },
  {
   "cell_type": "markdown",
   "metadata": {},
   "source": [
    "Puedes usar alias para renombrar los módulos o funciones al importarlos, lo cual puede ser útil para abreviar nombres largos."
   ]
  },
  {
   "cell_type": "code",
   "execution_count": 7,
   "metadata": {},
   "outputs": [
    {
     "name": "stdout",
     "output_type": "stream",
     "text": [
      "Dexter\n"
     ]
    }
   ],
   "source": [
    "import math as m\n",
    "\n",
    "print(m.pi)  # Imprime 3.14159..."
   ]
  },
  {
   "cell_type": "markdown",
   "metadata": {},
   "source": [
    "También puedes usar alias para funciones:"
   ]
  },
  {
   "cell_type": "code",
   "execution_count": 14,
   "metadata": {},
   "outputs": [
    {
     "name": "stdout",
     "output_type": "stream",
     "text": [
      "Dexter\n"
     ]
    }
   ],
   "source": [
    "from math import sqrt as raiz_cuadrada\n",
    "print(raiz_cuadrada(25))  # Imprime 5.0"
   ]
  },
  {
   "cell_type": "markdown",
   "metadata": {},
   "source": [
    "### **4. Creando Módulos Propios**"
   ]
  },
  {
   "cell_type": "markdown",
   "metadata": {},
   "source": [
    "Para crear un módulo propio, solo necesitas escribir un archivo Python con funciones o variables. Luego, puedes importarlo en otros archivos.\n",
    "\n",
    "Ejemplo:\n",
    "\n",
    "Archivo aritmetica.py:"
   ]
  },
  {
   "cell_type": "code",
   "execution_count": 18,
   "metadata": {},
   "outputs": [
    {
     "name": "stdout",
     "output_type": "stream",
     "text": [
      "Crescencio Esono.\n",
      "\n"
     ]
    }
   ],
   "source": [
    "def sumar(a, b):\n",
    "    return a + b\n",
    "\n",
    "def restar(a, b):\n",
    "    return a - b"
   ]
  },
  {
   "cell_type": "markdown",
   "metadata": {},
   "source": [
    "Archivo main.py:"
   ]
  },
  {
   "cell_type": "code",
   "execution_count": 19,
   "metadata": {},
   "outputs": [
    {
     "name": "stdout",
     "output_type": "stream",
     "text": [
      "Línea 1\n",
      "Línea 2\n",
      "Línea 3\n",
      "\n"
     ]
    }
   ],
   "source": [
    "import aritmetica\n",
    "\n",
    "resultado = aritmetica.sumar(5, 3)\n",
    "print(resultado)  # Imprime 8"
   ]
  },
  {
   "cell_type": "markdown",
   "metadata": {},
   "source": [
    "### **5. Paquetes: Organizando Módulos**"
   ]
  },
  {
   "cell_type": "markdown",
   "metadata": {},
   "source": [
    "Un paquete es una colección de módulos organizados en directorios, lo que te permite estructurar mejor tus proyectos. Para crear un paquete, simplemente coloca tus módulos en una carpeta y agrega un archivo _init_.py.\n",
    "\n",
    "Ejemplo:\n",
    "\n",
    "Estructura de carpetas:\n",
    "\n",
    "```python\n",
    "mi_paquete/\n",
    "    _init_.py\n",
    "    operaciones.py\n",
    "    conversiones.py\n",
    "```    "
   ]
  },
  {
   "cell_type": "code",
   "execution_count": 1,
   "metadata": {},
   "outputs": [],
   "source": [
    "#operaciones.py:\n",
    "def multiplicar(a, b):\n",
    "    return a * b"
   ]
  },
  {
   "cell_type": "code",
   "execution_count": null,
   "metadata": {},
   "outputs": [],
   "source": [
    "#conversiones.py:\n",
    "def a_dolares(euros):\n",
    "    return euros * 1.1"
   ]
  },
  {
   "cell_type": "markdown",
   "metadata": {},
   "source": [
    "Ahora puedes importar los módulos desde el paquete:"
   ]
  },
  {
   "cell_type": "code",
   "execution_count": null,
   "metadata": {},
   "outputs": [],
   "source": [
    "from mi_paquete import operaciones, conversiones\n",
    "\n",
    "print(operaciones.multiplicar(3, 4))  # Imprime 12\n",
    "print(conversiones.a_dolares(50))     # Imprime 55.0"
   ]
  },
  {
   "cell_type": "markdown",
   "metadata": {},
   "source": [
    "### **6. Módulos Externos: Instalación con pip**"
   ]
  },
  {
   "cell_type": "markdown",
   "metadata": {},
   "source": [
    "Puedes instalar módulos externos usando pip, el gestor de paquetes de Python. Por ejemplo, para instalar el módulo requests (que se usa para hacer peticiones HTTP):\n",
    "\n",
    "```python\n",
    "pip install requests\n",
    "```\n",
    "\n",
    "Luego, puedes importarlo y usarlo en tu programa:"
   ]
  },
  {
   "cell_type": "code",
   "execution_count": 2,
   "metadata": {},
   "outputs": [
    {
     "name": "stdout",
     "output_type": "stream",
     "text": [
      "200\n"
     ]
    }
   ],
   "source": [
    "import requests\n",
    "\n",
    "respuesta = requests.get('https://api.github.com')\n",
    "print(respuesta.status_code)  # Imprime el código de estado de la respuesta"
   ]
  },
  {
   "cell_type": "markdown",
   "metadata": {},
   "source": [
    "#### **6.1. Realizar solicitudes HTTP**"
   ]
  },
  {
   "cell_type": "markdown",
   "metadata": {},
   "source": [
    "El módulo requests simplifica el proceso de hacer solicitudes HTTP a URLs específicas. Los tipos de solicitudes más comunes incluyen:\n",
    "\n",
    "* GET: Obtener datos desde un servidor.\n",
    "\n",
    "* POST: Enviar datos al servidor.\n",
    "\n",
    "* PUT: Actualizar datos en el servidor.\n",
    "\n",
    "* DELETE: Eliminar recursos en el servidor.\n",
    "\n",
    "\n",
    "Solicitudes GET\n",
    "\n",
    "La solicitud GET se utiliza para obtener datos de un servidor o API."
   ]
  },
  {
   "cell_type": "code",
   "execution_count": null,
   "metadata": {},
   "outputs": [],
   "source": [
    "import requests\n",
    "\n",
    "# Realizar una solicitud GET\n",
    "response = requests.get('https://jsonplaceholder.typicode.com/posts')\n",
    "\n",
    "# Imprimir el contenido de la respuesta\n",
    "print(response.text)  # Muestra el contenido como texto"
   ]
  },
  {
   "cell_type": "markdown",
   "metadata": {},
   "source": [
    "Solicitudes POST\n",
    "\n",
    "El método POST se utiliza para enviar datos a un servidor, normalmente para crear un nuevo recurso."
   ]
  },
  {
   "cell_type": "code",
   "execution_count": null,
   "metadata": {},
   "outputs": [],
   "source": [
    "# Datos que vamos a enviar\n",
    "data = {'title': 'Nuevo Post', 'body': 'Contenido del post', 'userId': 1}\n",
    "\n",
    "# Realizar una solicitud POST\n",
    "response = requests.post('https://jsonplaceholder.typicode.com/posts', data=data)\n",
    "\n",
    "# Mostrar la respuesta\n",
    "print(response.json())  # Respuesta en formato JSON"
   ]
  }
 ],
 "metadata": {
  "kernelspec": {
   "display_name": "Python 3",
   "language": "python",
   "name": "python3"
  },
  "language_info": {
   "codemirror_mode": {
    "name": "ipython",
    "version": 3
   },
   "file_extension": ".py",
   "mimetype": "text/x-python",
   "name": "python",
   "nbconvert_exporter": "python",
   "pygments_lexer": "ipython3",
   "version": "3.11.2"
  }
 },
 "nbformat": 4,
 "nbformat_minor": 2
}

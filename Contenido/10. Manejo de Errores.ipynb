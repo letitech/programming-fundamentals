{
 "cells": [
  {
   "cell_type": "markdown",
   "metadata": {},
   "source": [
    "# **Manejo de Errores en Python**"
   ]
  },
  {
   "cell_type": "markdown",
   "metadata": {},
   "source": [
    "### Objetivo\n",
    "Al finalizar esta lección, los estudiantes comprenderán cómo manejar errores y excepciones en Python para crear programas más robustos y confiables. Aprenderán a utilizar las sentencias `try`, `except`, `else`, `finally`, y cómo definir excepciones personalizadas.\n",
    "\n",
    "### 1. Introducción al Manejo de Errores\n",
    "- **Definición**: En programación, un error (o excepción) es un evento inesperado que puede ocurrir durante la ejecución de un programa y que interrumpe el flujo normal del mismo.\n",
    "- **Importancia**: Manejar errores correctamente permite que los programas respondan adecuadamente a situaciones imprevistas, evitando fallos críticos y mejorando la experiencia del usuario.\n",
    "\n",
    "### 2. Tipos de Errores en Python\n",
    "- **Errores de Sintaxis**: Son errores en la estructura del código que Python detecta antes de ejecutar el programa. Estos errores deben corregirse antes de que el programa se pueda ejecutar.\n",
    "  - **Ejemplo**:\n",
    "    ```python\n",
    "    print(\"Hola\"  # Falta el paréntesis de cierre\n",
    "    ```\n",
    "\n",
    "- **Excepciones**: Son errores detectados durante la ejecución del programa. Python proporciona varios tipos de excepciones que representan diferentes errores en tiempo de ejecución.\n",
    "  - **Ejemplos de Excepciones Comunes**:\n",
    "    - `ZeroDivisionError`: Ocurre cuando se intenta dividir por cero.\n",
    "    - `IndexError`: Ocurre cuando se intenta acceder a un índice inexistente en una lista.\n",
    "    - `KeyError`: Ocurre cuando se intenta acceder a una clave inexistente en un diccionario.\n",
    "    - `ValueError`: Ocurre cuando una función recibe un argumento del tipo correcto pero con un valor inapropiado.\n",
    "\n",
    "### 3. Manejo Básico de Excepciones con `try` y `except`\n",
    "- **Definición**: La instrucción `try` permite probar un bloque de código para detectar errores, mientras que la instrucción `except` permite manejar el error si ocurre.\n",
    "- **Sintaxis**:\n",
    "  ```python\n",
    "  try:\n",
    "      # Bloque de código que puede generar una excepción\n",
    "  except NombreDeLaExcepcion:\n",
    "      # Bloque de código que se ejecuta si ocurre la excepción\n",
    "  ```\n",
    "- **Ejemplo Básico**:\n",
    "  ```python\n",
    "  try:\n",
    "      resultado = 10 / 0\n",
    "  except ZeroDivisionError:\n",
    "      print(\"Error: No se puede dividir por cero.\")\n",
    "  ```\n",
    "\n",
    "### 4. Manejo de Múltiples Excepciones\n",
    "- **Definición**: Se pueden manejar diferentes tipos de excepciones usando múltiples bloques `except`.\n",
    "- **Sintaxis**:\n",
    "  ```python\n",
    "  try:\n",
    "      # Bloque de código que puede generar excepciones\n",
    "  except TipoDeExcepcion1:\n",
    "      # Manejo de TipoDeExcepcion1\n",
    "  except TipoDeExcepcion2:\n",
    "      # Manejo de TipoDeExcepcion2\n",
    "  ```\n",
    "- **Ejemplo**:\n",
    "  ```python\n",
    "  try:\n",
    "      numero = int(input(\"Introduce un número: \"))\n",
    "      resultado = 10 / numero\n",
    "  except ValueError:\n",
    "      print(\"Error: Debes introducir un número entero.\")\n",
    "  except ZeroDivisionError:\n",
    "      print(\"Error: No se puede dividir por cero.\")\n",
    "  ```\n",
    "\n",
    "### 5. Uso de `else` y `finally`\n",
    "- **`else`**: El bloque `else` se ejecuta si no ocurre ninguna excepción en el bloque `try`.\n",
    "- **`finally`**: El bloque `finally` se ejecuta siempre, independientemente de si ocurrió una excepción o no. Es útil para liberar recursos, como cerrar archivos o conexiones a bases de datos.\n",
    "- **Sintaxis**:\n",
    "  ```python\n",
    "  try:\n",
    "      # Bloque de código que puede generar una excepción\n",
    "  except NombreDeLaExcepcion:\n",
    "      # Bloque de código que se ejecuta si ocurre la excepción\n",
    "  else:\n",
    "      # Bloque de código que se ejecuta si no ocurre ninguna excepción\n",
    "  finally:\n",
    "      # Bloque de código que se ejecuta siempre\n",
    "  ```\n",
    "- **Ejemplo**:\n",
    "  ```python\n",
    "  try:\n",
    "      numero = int(input(\"Introduce un número: \"))\n",
    "      resultado = 10 / numero\n",
    "  except ValueError:\n",
    "      print(\"Error: Debes introducir un número entero.\")\n",
    "  except ZeroDivisionError:\n",
    "      print(\"Error: No se puede dividir por cero.\")\n",
    "  else:\n",
    "      print(f\"El resultado es {resultado}.\")\n",
    "  finally:\n",
    "      print(\"Este bloque se ejecuta siempre.\")\n",
    "  ```\n",
    "\n",
    "### 6. Captura de Excepciones Genéricas\n",
    "- **Definición**: En algunos casos, se puede usar un bloque `except` sin especificar el tipo de excepción para capturar cualquier excepción que ocurra. Sin embargo, esta práctica debe usarse con precaución, ya que puede hacer que el código sea menos predecible y más difícil de depurar.\n",
    "- **Ejemplo**:\n",
    "  ```python\n",
    "  try:\n",
    "      resultado = 10 / int(input(\"Introduce un número: \"))\n",
    "  except:\n",
    "      print(\"Ha ocurrido un error.\")\n",
    "  ```\n",
    "\n",
    "### 7. Excepciones Personalizadas\n",
    "- **Definición**: Python permite definir excepciones personalizadas creando clases que heredan de la clase base `Exception`. Esto es útil cuando se necesita manejar situaciones de error específicas de una aplicación.\n",
    "- **Ejemplo**:\n",
    "  ```python\n",
    "  class ErrorPersonalizado(Exception):\n",
    "      \"\"\"Excepción personalizada para casos específicos.\"\"\"\n",
    "      pass\n",
    "\n",
    "  def verificar_edad(edad):\n",
    "      if edad < 18:\n",
    "          raise ErrorPersonalizado(\"La edad debe ser mayor o igual a 18.\")\n",
    "      else:\n",
    "          print(\"Edad válida.\")\n",
    "\n",
    "  try:\n",
    "      verificar_edad(16)\n",
    "  except ErrorPersonalizado as e:\n",
    "      print(f\"Error: {e}\")\n",
    "  ```"
   ]
  },
  {
   "cell_type": "markdown",
   "metadata": {},
   "source": [
    "### **8. Ejemplos Prácticos**"
   ]
  },
  {
   "cell_type": "markdown",
   "metadata": {},
   "source": [
    "1. **Manejo de Archivos con Manejo de Errores**:"
   ]
  },
  {
   "cell_type": "code",
   "execution_count": null,
   "metadata": {},
   "outputs": [],
   "source": [
    "try:\n",
    "    archivo = open(\"archivo.txt\", \"r\")\n",
    "    contenido = archivo.read()\n",
    "except FileNotFoundError:\n",
    "    print(\"Error: El archivo no fue encontrado.\")\n",
    "else:\n",
    "    print(contenido)\n",
    "finally:\n",
    "    archivo.close()"
   ]
  },
  {
   "cell_type": "markdown",
   "metadata": {},
   "source": [
    "2. **Calculadora con Manejo de Excepciones**:"
   ]
  },
  {
   "cell_type": "code",
   "execution_count": null,
   "metadata": {},
   "outputs": [],
   "source": [
    "def dividir(a, b):\n",
    "    try:\n",
    "        return a / b\n",
    "    except ZeroDivisionError:\n",
    "        print(\"Error: No se puede dividir por cero.\")\n",
    "    except TypeError:\n",
    "        print(\"Error: Ambos argumentos deben ser números.\")\n",
    "\n",
    "print(dividir(10, 0))\n",
    "print(dividir(10, \"2\"))"
   ]
  },
  {
   "cell_type": "markdown",
   "metadata": {},
   "source": [
    "3. **Validación de Entrada del Usuario**:"
   ]
  },
  {
   "cell_type": "code",
   "execution_count": null,
   "metadata": {},
   "outputs": [],
   "source": [
    "while True:\n",
    "    try:\n",
    "        edad = int(input(\"Introduce tu edad: \"))\n",
    "        print(f\"Tienes {edad} años.\")\n",
    "        break\n",
    "    except ValueError:\n",
    "        print(\"Error: Debes introducir un número entero.\")\n"
   ]
  }
 ],
 "metadata": {
  "kernelspec": {
   "display_name": "Python 3",
   "language": "python",
   "name": "python3"
  },
  "language_info": {
   "codemirror_mode": {
    "name": "ipython",
    "version": 3
   },
   "file_extension": ".py",
   "mimetype": "text/x-python",
   "name": "python",
   "nbconvert_exporter": "python",
   "pygments_lexer": "ipython3",
   "version": "3.11.2"
  }
 },
 "nbformat": 4,
 "nbformat_minor": 2
}

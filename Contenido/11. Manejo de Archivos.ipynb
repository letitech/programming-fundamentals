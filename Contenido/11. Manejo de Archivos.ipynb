{
 "cells": [
  {
   "cell_type": "markdown",
   "metadata": {},
   "source": [
    "# **Manejo de Archivos en Python**"
   ]
  },
  {
   "cell_type": "markdown",
   "metadata": {},
   "source": [
    "## **Objetivo**\n",
    "Al finalizar esta lección, los estudiantes deben ser capaces de crear programas que trabajen con archivos de manera autónoma, aplicando buenas prácticas en el manejo de recursos."
   ]
  },
  {
   "cell_type": "markdown",
   "metadata": {},
   "source": [
    "### **1. Introducción al Manejo de Archivos**"
   ]
  },
  {
   "cell_type": "markdown",
   "metadata": {},
   "source": [
    "En Python, podemos manejar archivos para realizar operaciones como lectura, escritura y actualización. Los archivos pueden estar en diferentes formatos, como texto (.txt) o binarios. El flujo básico para trabajar con archivos es:\n",
    "1. Abrir el archivo.\n",
    "2. Leer o escribir en el archivo.\n",
    "3. Cerrar el archivo.\n",
    "\n",
    "**Función open():** \n",
    "\n",
    "La función open() se usa para abrir un archivo en diferentes modos. Sus principales parámetros son:\n",
    "\n",
    "* file: Nombre o ruta del archivo.\n",
    "* mode: Modo en el que se abrirá el archivo (opcional)."
   ]
  },
  {
   "cell_type": "markdown",
   "metadata": {},
   "source": [
    "### **2. Modos de Apertura**"
   ]
  },
  {
   "cell_type": "markdown",
   "metadata": {},
   "source": [
    "Python ofrece diferentes modos para abrir archivos:\n",
    "\n",
    "* \"r\": Solo lectura. Si el archivo no existe, genera un error.\n",
    "* \"w\": Escritura. Si el archivo no existe, lo crea. Si ya existe, lo sobreescribe.\n",
    "* \"a\": Agregar contenido al final del archivo. Si no existe, lo crea.\n",
    "* \"b\": Modo binario. Se usa con otros modos para abrir archivos binarios como imágenes.\n",
    "* \"x\": Creación exclusiva. Crea un archivo, pero genera error si el archivo ya existe.\n",
    "Ejemplos de uso:"
   ]
  },
  {
   "cell_type": "code",
   "execution_count": null,
   "metadata": {},
   "outputs": [],
   "source": [
    "# Abrir un archivo en modo lectura\n",
    "# archivo = open('../archivo2.txt', 'r')\n",
    "\n",
    "# Abrir un archivo en modo escritura\n",
    "# archivo = open('archivo.txt', 'w')\n",
    "\n",
    "\n",
    "# Abrir un archivo en modo agregar\n",
    "# archivo = open('archivo.txt', 'a')\n",
    "# archivo.write(\"\\nBenito es un crack\")\n",
    "# archivo.close()"
   ]
  },
  {
   "cell_type": "markdown",
   "metadata": {},
   "source": [
    "### **3. Lectura de Archivos**"
   ]
  },
  {
   "cell_type": "markdown",
   "metadata": {},
   "source": [
    "Una vez abierto el archivo, puedes leer su contenido. Algunas funciones importantes son:\n",
    "\n",
    "**read()**\n",
    "\n",
    "Lee todo el contenido del archivo como una cadena."
   ]
  },
  {
   "cell_type": "code",
   "execution_count": null,
   "metadata": {},
   "outputs": [],
   "source": [
    "archivo = open('C:/Users/CENA/Documents/Nombres.txt', 'r')\n",
    "contenido = archivo.read()\n",
    "print(contenido)\n",
    "archivo.close()"
   ]
  },
  {
   "cell_type": "markdown",
   "metadata": {},
   "source": [
    "**readline()**\n",
    "\n",
    "Lee una sola línea del archivo."
   ]
  },
  {
   "cell_type": "code",
   "execution_count": null,
   "metadata": {},
   "outputs": [],
   "source": [
    "archivo = open('C:/Users/CENA/Documents/Nombres.txt', 'r')\n",
    "linea = archivo.readline()\n",
    "print(linea)\n",
    "archivo.close()"
   ]
  },
  {
   "cell_type": "markdown",
   "metadata": {},
   "source": [
    "**readlines()**\n",
    "\n",
    "Lee todas las líneas del archivo y las devuelve como una lista."
   ]
  },
  {
   "cell_type": "code",
   "execution_count": null,
   "metadata": {},
   "outputs": [],
   "source": [
    "archivo = open('C:/Users/CENA/Documents/Nombres.txt', 'r')\n",
    "lineas = archivo.readlines()\n",
    "print(lineas)\n",
    "archivo.close()"
   ]
  },
  {
   "cell_type": "markdown",
   "metadata": {},
   "source": [
    "### **4. Escritura en Archivos**"
   ]
  },
  {
   "cell_type": "markdown",
   "metadata": {},
   "source": [
    "Para escribir en un archivo, primero debes abrirlo en modo de escritura o agregar. Las funciones más comunes son:\n",
    "\n",
    "**write()**\n",
    "\n",
    "Escribe una cadena en el archivo. Si el archivo no existe, se crea. Si ya contiene datos, se sobrescriben."
   ]
  },
  {
   "cell_type": "code",
   "execution_count": 3,
   "metadata": {},
   "outputs": [],
   "source": [
    "archivo = open('C:/Users/CENA/Documents/textos.txt', 'w')\n",
    "archivo.write(\"Santos.\\n\")\n",
    "archivo.close()"
   ]
  },
  {
   "cell_type": "markdown",
   "metadata": {},
   "source": [
    "**writelines()**\n",
    "\n",
    "Escribe una lista de cadenas en el archivo."
   ]
  },
  {
   "cell_type": "code",
   "execution_count": null,
   "metadata": {},
   "outputs": [],
   "source": [
    "archivo = open('C:/Users/CENA/Documents/Nombres.txt', 'w')\n",
    "lineas = [\"Línea 1\\n\", \"Línea 2\\n\", \"Línea 3\\n\"]\n",
    "archivo.writelines(lineas)\n",
    "archivo.close()"
   ]
  },
  {
   "cell_type": "markdown",
   "metadata": {},
   "source": [
    "### **5. Cerrar Archivos**"
   ]
  },
  {
   "cell_type": "markdown",
   "metadata": {},
   "source": [
    "Es importante cerrar los archivos después de usarlos para liberar los recursos del sistema. Para esto, se utiliza el método close():\n",
    "```python\n",
    "archivo.close()\n",
    "```\n",
    "Una forma más segura de manejar archivos es usar la declaración with, que cierra automáticamente el archivo cuando termina el bloque de código:"
   ]
  },
  {
   "cell_type": "code",
   "execution_count": 1,
   "metadata": {},
   "outputs": [
    {
     "name": "stdout",
     "output_type": "stream",
     "text": [
      "Crescencio Esono.\n",
      "\n"
     ]
    }
   ],
   "source": [
    "# No es necesario usar archivo.close()\n",
    "with open('C:/Users/CENA/Documents/Nombres.txt', 'r') as archivo:\n",
    "    contenido = archivo.read()\n",
    "    print(contenido)"
   ]
  },
  {
   "cell_type": "markdown",
   "metadata": {},
   "source": [
    "### **6. Manejo de Excepciones**"
   ]
  },
  {
   "cell_type": "markdown",
   "metadata": {},
   "source": [
    "Al trabajar con archivos, es fundamental manejar errores como archivos no existentes o falta de permisos. Esto se puede hacer utilizando bloques try-except:"
   ]
  },
  {
   "cell_type": "code",
   "execution_count": null,
   "metadata": {},
   "outputs": [],
   "source": [
    "try:\n",
    "    archivo = open('archivo.txt', 'r')\n",
    "    contenido = archivo.read()\n",
    "    print(contenido)\n",
    "except FileNotFoundError:\n",
    "    print(\"El archivo no existe.\")\n",
    "finally:\n",
    "    archivo.close()"
   ]
  },
  {
   "cell_type": "markdown",
   "metadata": {},
   "source": [
    "### **7. Modos Binarios**"
   ]
  },
  {
   "cell_type": "markdown",
   "metadata": {},
   "source": [
    "Los archivos binarios, como imágenes o archivos de audio, deben ser abiertos en modo binario usando \"b\". Ejemplo de lectura binaria:"
   ]
  },
  {
   "cell_type": "code",
   "execution_count": null,
   "metadata": {},
   "outputs": [],
   "source": [
    "with open('C:/Users/CENA/Documents/Trabajo/Taekwondo La Familia/Otros/Material2.docx', 'rb') as archivo_binario:\n",
    "    contenido = archivo_binario.read()\n",
    "    print(contenido)"
   ]
  },
  {
   "cell_type": "markdown",
   "metadata": {},
   "source": [
    "### **8. Operaciones Combinadas: Lectura y Escritura**"
   ]
  },
  {
   "cell_type": "markdown",
   "metadata": {},
   "source": [
    "A veces es necesario abrir un archivo en modo lectura y escritura simultáneamente:\n",
    "\n",
    "\"r+\": Lectura y escritura, pero sin sobrescribir el archivo.\n",
    "\n",
    "\"w+\": Escritura y lectura, sobrescribiendo el archivo.\n",
    "\n",
    "\"a+\": Lectura y escritura, pero sin sobrescribir los datos existentes."
   ]
  },
  {
   "cell_type": "code",
   "execution_count": null,
   "metadata": {},
   "outputs": [],
   "source": [
    "with open('archivo.txt', 'r+') as archivo:\n",
    "    contenido = archivo.read()\n",
    "    archivo.write(\"Texto adicional.\")"
   ]
  },
  {
   "cell_type": "markdown",
   "metadata": {},
   "source": [
    "### **9. Manejo de Archivos CSV**"
   ]
  },
  {
   "cell_type": "markdown",
   "metadata": {},
   "source": [
    "Los archivos CSV (del inglés comma-separated values) son un tipo de documento en formato abierto sencillo para representar datos en forma de tabla, en las que las columnas se separan por comas y las filas por saltos de línea.\n",
    "\n",
    "Ejemplo:\n",
    "\n",
    "<table>\n",
    "    <tr>\n",
    "        <td>Nombre</td>\n",
    "        <td>Edad</td>\n",
    "        <td>Ciudad</td>\n",
    "    </tr>\n",
    "    <tr>\n",
    "        <td>Juan</td>\n",
    "        <td>20</td>\n",
    "        <td>Malabo</td>\n",
    "    </tr>\n",
    "</table>\n",
    "\n",
    "La tabla de arriba puede ser representada de la siguiente forma en CSV:\n",
    "\n",
    "Nombre, Edad, Ciudad\n",
    "\n",
    "Juan, 20, Malabo\n",
    "\n",
    "Los archivos CSV son comunes para almacenar datos tabulares. Python tiene un módulo csv para facilitar su manipulación."
   ]
  },
  {
   "cell_type": "code",
   "execution_count": null,
   "metadata": {},
   "outputs": [],
   "source": [
    "import csv\n",
    "\n",
    "with open('datos.csv', 'r') as archivo_csv:\n",
    "    lector = csv.reader(archivo_csv)\n",
    "    for fila in lector:\n",
    "        print(fila)"
   ]
  },
  {
   "cell_type": "markdown",
   "metadata": {},
   "source": [
    "Escribir en un archivo CSV:"
   ]
  },
  {
   "cell_type": "code",
   "execution_count": null,
   "metadata": {},
   "outputs": [],
   "source": [
    "import csv\n",
    "\n",
    "with open('datos.csv', 'w', newline='') as archivo_csv:\n",
    "    escritor = csv.writer(archivo_csv)\n",
    "    escritor.writerow(['Nombre', 'Edad', 'Ciudad'])\n",
    "    escritor.writerow(['Juan', '20', 'Malabo'])"
   ]
  }
 ],
 "metadata": {
  "kernelspec": {
   "display_name": "Python 3",
   "language": "python",
   "name": "python3"
  },
  "language_info": {
   "codemirror_mode": {
    "name": "ipython",
    "version": 3
   },
   "file_extension": ".py",
   "mimetype": "text/x-python",
   "name": "python",
   "nbconvert_exporter": "python",
   "pygments_lexer": "ipython3",
   "version": "3.11.2"
  }
 },
 "nbformat": 4,
 "nbformat_minor": 2
}

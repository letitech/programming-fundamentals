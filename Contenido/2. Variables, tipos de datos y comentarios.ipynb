{
 "cells": [
  {
   "cell_type": "markdown",
   "metadata": {},
   "source": [
    "# **Variables, Tipos de Datos y Comentarios**"
   ]
  },
  {
   "cell_type": "markdown",
   "metadata": {},
   "source": [
    "## **Objetivo**\n",
    "Al finalizar esta lección, los estudiantes comprenderán qué son las variables, cómo se declaran y utilizan en Python, los diferentes tipos de datos disponibles y cómo escribir comentarios efectivos en el código."
   ]
  },
  {
   "cell_type": "markdown",
   "metadata": {},
   "source": [
    "### **1. Introducción a las Variables**"
   ]
  },
  {
   "cell_type": "markdown",
   "metadata": {},
   "source": [
    "**Definición:** Una variable es un nombre simbólico asociado a un valor almacenado en la memoria del ordenador. Las variables permiten a los programadores almacenar, modificar y acceder a datos de manera eficiente.\n",
    "\n",
    "**Sintaxis de Asignación:**\n",
    "\n",
    "```python\n",
    "variable_name = value\n",
    "```\n",
    "\n",
    "Aquí variable_name es el nombre de la variable y value es el valor que se le asigna.\n",
    "\n",
    "**Ejemplos:**"
   ]
  },
  {
   "cell_type": "code",
   "execution_count": null,
   "metadata": {},
   "outputs": [],
   "source": [
    "miVariable = 25\n",
    "name = \"Alice\"\n",
    "is_student = True"
   ]
  },
  {
   "cell_type": "markdown",
   "metadata": {},
   "source": [
    "### **2. Reglas de Nomenclatura de Variables**"
   ]
  },
  {
   "cell_type": "markdown",
   "metadata": {},
   "source": [
    "**Nombres válidos:** Deben comenzar con una letra (a-z, A-Z) o un guion bajo (_), seguido de letras, números o guiones bajos.\n",
    "\n",
    "**Nombres inválidos:** No pueden comenzar con un número y no deben usar palabras clave reservadas en Python.\n",
    "\n",
    "**Sensible a mayúsculas:** age y Age son variables diferentes en Python."
   ]
  },
  {
   "cell_type": "markdown",
   "metadata": {},
   "source": [
    "### **3. Tipos de Datos en Python**"
   ]
  },
  {
   "cell_type": "markdown",
   "metadata": {},
   "source": [
    "#### **3.1. Enteros (int)**\n",
    "**Definición:** Números enteros positivos o negativos, sin parte decimal.\n",
    "\n",
    "**Ejemplo:**"
   ]
  },
  {
   "cell_type": "code",
   "execution_count": null,
   "metadata": {},
   "outputs": [],
   "source": [
    "number_of_students = 30"
   ]
  },
  {
   "cell_type": "markdown",
   "metadata": {},
   "source": [
    "#### **3.2. Flotantes (float)**\n",
    "**Definición:** Números que incluyen una parte decimal.\n",
    "\n",
    "**Ejemplo:**"
   ]
  },
  {
   "cell_type": "code",
   "execution_count": null,
   "metadata": {},
   "outputs": [],
   "source": [
    "price = 19.99"
   ]
  },
  {
   "cell_type": "markdown",
   "metadata": {},
   "source": [
    "#### **3.3. Cadenas de Texto (str)**\n",
    "**Definición:** Secuencias de caracteres que representan texto.\n",
    "\n",
    "**Ejemplo:**"
   ]
  },
  {
   "cell_type": "code",
   "execution_count": null,
   "metadata": {},
   "outputs": [],
   "source": [
    "greeting = \"Hello, World!\""
   ]
  },
  {
   "cell_type": "markdown",
   "metadata": {},
   "source": [
    "#### **3.4. Booleanos (bool)**\n",
    "**Definición:** Valores lógicos que pueden ser True o False.\n",
    "\n",
    "**Ejemplo:**"
   ]
  },
  {
   "cell_type": "code",
   "execution_count": null,
   "metadata": {},
   "outputs": [],
   "source": [
    "is_open = True"
   ]
  },
  {
   "cell_type": "markdown",
   "metadata": {},
   "source": [
    "#### **4. Conversiones de Tipo (Casting)**\n",
    "**Definición:** Convertir un tipo de dato en otro. Esto es útil cuando se necesita combinar diferentes tipos de datos en una operación.\n",
    "\n",
    "**Ejemplos:**"
   ]
  },
  {
   "cell_type": "code",
   "execution_count": null,
   "metadata": {},
   "outputs": [],
   "source": [
    "# Convertir entero a cadena\n",
    "age = 25\n",
    "age_str = str(age)\n",
    "\n",
    "# Convertir cadena a entero\n",
    "year = \"2024\"\n",
    "year_int = int(year)\n",
    "\n",
    "# Convertir entero a flotante\n",
    "number = 7\n",
    "number_float = float(number)"
   ]
  },
  {
   "cell_type": "markdown",
   "metadata": {},
   "source": [
    "### **5. Comentarios en Python**"
   ]
  },
  {
   "cell_type": "markdown",
   "metadata": {},
   "source": [
    "#### **5.1. Comentarios de una sola línea**\n",
    "**Definición:** Se utilizan para añadir notas o descripciones en el código. Empiezan con el símbolo #.\n",
    "\n",
    "**Ejemplo:**"
   ]
  },
  {
   "cell_type": "code",
   "execution_count": null,
   "metadata": {},
   "outputs": [],
   "source": [
    "age = 25  # Asignando valor 25 a la variable age"
   ]
  },
  {
   "cell_type": "markdown",
   "metadata": {},
   "source": [
    "#### **5.2. Comentarios de múltiples líneas**\n",
    "**Definición:** Se utilizan para comentarios más extensos. Se pueden usar tres comillas dobles (\"\"\") o simples (''').\n",
    "\n",
    "**Ejemplo:**"
   ]
  },
  {
   "cell_type": "code",
   "execution_count": null,
   "metadata": {},
   "outputs": [
    {
     "name": "stdout",
     "output_type": "stream",
     "text": [
      "\n",
      "Este es un comentario de múltiples líneas.\n",
      "Se utiliza para describir en detalle una parte del código.\n",
      "\n"
     ]
    }
   ],
   "source": [
    "\"\"\"\n",
    "Este es un comentario de múltiples líneas.\n",
    "Se utiliza para describir en detalle una parte del código.\n",
    "\"\"\""
   ]
  },
  {
   "cell_type": "markdown",
   "metadata": {},
   "source": [
    "#### **5.3. Importancia de los Comentarios**\n",
    "**Claridad:** Ayudan a entender el propósito del código.\n",
    "\n",
    "**Mantenimiento:** Facilitan la comprensión y modificación del código por otros desarrolladores o por uno mismo en el futuro."
   ]
  }
 ],
 "metadata": {
  "kernelspec": {
   "display_name": "Python 3",
   "language": "python",
   "name": "python3"
  },
  "language_info": {
   "codemirror_mode": {
    "name": "ipython",
    "version": 3
   },
   "file_extension": ".py",
   "mimetype": "text/x-python",
   "name": "python",
   "nbconvert_exporter": "python",
   "pygments_lexer": "ipython3",
   "version": "3.11.2"
  }
 },
 "nbformat": 4,
 "nbformat_minor": 2
}

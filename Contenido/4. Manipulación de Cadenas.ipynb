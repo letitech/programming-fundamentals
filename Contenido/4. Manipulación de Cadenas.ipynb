{
 "cells": [
  {
   "cell_type": "markdown",
   "metadata": {},
   "source": [
    "# **Manipulación de Cadenas**"
   ]
  },
  {
   "cell_type": "markdown",
   "metadata": {},
   "source": [
    "## **Objetivo**\n",
    "El objetivo de esta lección es que los estudiantes adquieran un entendimiento profundo de cómo trabajar con cadenas (strings) en Python, aprendiendo a realizar diversas manipulaciones y transformaciones comunes, así como utilizar métodos y funciones integradas que permiten trabajar eficientemente con este tipo de dato."
   ]
  },
  {
   "cell_type": "markdown",
   "metadata": {},
   "source": [
    "### **1. Introducción a las cadenas**"
   ]
  },
  {
   "cell_type": "markdown",
   "metadata": {},
   "source": [
    "En Python, una cadena es una secuencia de caracteres que se puede representar con comillas simples ('...') o comillas dobles (\"...\"). Son inmutables, lo que significa que una vez que se crean, no pueden ser modificadas directamente.\n",
    "\n",
    "Ejemplo básico de cadena:\n",
    "\n",
    "```python\n",
    "cadena1 = \"Hola, mundo\"\n",
    "cadena2 = 'Python es increíble'\n",
    "```\n",
    "\n",
    "Concatenación de cadenas:\n",
    "\n",
    "Puedes combinar (concatenar) dos o más cadenas usando el operador +."
   ]
  },
  {
   "cell_type": "code",
   "execution_count": 1,
   "metadata": {},
   "outputs": [
    {
     "name": "stdout",
     "output_type": "stream",
     "text": [
      "Hola Juan\n"
     ]
    }
   ],
   "source": [
    "saludo = \"Hola\"\n",
    "nombre = \"Juan\"\n",
    "frase = saludo + \" \" + nombre\n",
    "print(frase)  # Resultado: Hola Juan"
   ]
  },
  {
   "cell_type": "markdown",
   "metadata": {},
   "source": [
    "### **2. Índices y rebanado de cadenas**"
   ]
  },
  {
   "cell_type": "markdown",
   "metadata": {},
   "source": [
    "Cada carácter en una cadena tiene un índice, comenzando desde 0. Puedes acceder a cualquier carácter de la cadena mediante su índice, o extraer subcadenas (slices) usando rangos.\n",
    "\n",
    "Acceso a caracteres:"
   ]
  },
  {
   "cell_type": "code",
   "execution_count": 4,
   "metadata": {},
   "outputs": [
    {
     "name": "stdout",
     "output_type": "stream",
     "text": [
      "15\n",
      "m\n",
      "a\n"
     ]
    }
   ],
   "source": [
    "fruta = \"manzana mordida\"\n",
    "print(len(fruta))\n",
    "print(fruta[0])  # Muestra el primer carácter: 'm'\n",
    "print(fruta[-1])  # Muestra el último carácter: 'a'"
   ]
  },
  {
   "cell_type": "markdown",
   "metadata": {},
   "source": [
    "Rebanado (slicing):"
   ]
  },
  {
   "cell_type": "code",
   "execution_count": null,
   "metadata": {},
   "outputs": [],
   "source": [
    "fruta = \"manzana\"\n",
    "print(fruta[0:3])  # Muestra los caracteres del índice 0 al 2: 'man'\n",
    "print(fruta[3:])   # Desde el índice 3 hasta el final: 'zana'"
   ]
  },
  {
   "cell_type": "markdown",
   "metadata": {},
   "source": [
    "### **3. Métodos comunes de cadenas**\n"
   ]
  },
  {
   "cell_type": "markdown",
   "metadata": {},
   "source": [
    "Python ofrece numerosos métodos incorporados que hacen que trabajar con cadenas sea eficiente y sencillo. Algunos de los más utilizados incluyen:\n",
    "\n",
    "* **len():** Devuelve la longitud de la cadena (número de caracteres)."
   ]
  },
  {
   "cell_type": "code",
   "execution_count": 5,
   "metadata": {},
   "outputs": [
    {
     "name": "stdout",
     "output_type": "stream",
     "text": [
      "10\n"
     ]
    }
   ],
   "source": [
    "frase = \"Hola Mundo\"\n",
    "print(len(frase))  # Resultado: 10"
   ]
  },
  {
   "cell_type": "markdown",
   "metadata": {},
   "source": [
    "* **lower() y upper():** Convierte la cadena a minúsculas o mayúsculas."
   ]
  },
  {
   "cell_type": "code",
   "execution_count": null,
   "metadata": {},
   "outputs": [],
   "source": [
    "nombre = \"Juan Pérez\"\n",
    "print(nombre.lower())  # Resultado: 'juan pérez'\n",
    "print(nombre.upper())  # Resultado: 'JUAN PÉREZ'"
   ]
  },
  {
   "cell_type": "markdown",
   "metadata": {},
   "source": [
    "* **strip(), lstrip() y rstrip():** Elimina los espacios en blanco al principio y al final de una cadena."
   ]
  },
  {
   "cell_type": "code",
   "execution_count": 6,
   "metadata": {},
   "outputs": [
    {
     "name": "stdout",
     "output_type": "stream",
     "text": [
      "Hola\n",
      "Hola   \n",
      "   Hola\n"
     ]
    }
   ],
   "source": [
    "cadena = \"   Hola   \"\n",
    "print(cadena.strip())   # Resultado: 'Hola'\n",
    "print(cadena.lstrip())  # Resultado: 'Hola   '\n",
    "print(cadena.rstrip())  # Resultado: '   Hola'"
   ]
  },
  {
   "cell_type": "markdown",
   "metadata": {},
   "source": [
    "* **replace():** Reemplaza partes de la cadena con otra subcadena."
   ]
  },
  {
   "cell_type": "code",
   "execution_count": 7,
   "metadata": {},
   "outputs": [
    {
     "name": "stdout",
     "output_type": "stream",
     "text": [
      "Adiós mundo\n"
     ]
    }
   ],
   "source": [
    "frase = \"Hola mundo\"\n",
    "print(frase.replace(\"Hola\", \"Adiós\"))  # Resultado: 'Adiós mundo'"
   ]
  },
  {
   "cell_type": "markdown",
   "metadata": {},
   "source": [
    "* **find() y index():** Busca una subcadena dentro de otra cadena. find() devuelve -1 si no se encuentra, mientras que index() lanza un error."
   ]
  },
  {
   "cell_type": "code",
   "execution_count": 12,
   "metadata": {},
   "outputs": [
    {
     "name": "stdout",
     "output_type": "stream",
     "text": [
      "-1\n",
      "15\n"
     ]
    }
   ],
   "source": [
    "frase = \"Bienvenidos al curso de Python\"\n",
    "print(frase.find(\"hola\"))  # Resultado: 16\n",
    "print(frase.index(\"curso\"))"
   ]
  },
  {
   "cell_type": "markdown",
   "metadata": {},
   "source": [
    "* **split() y join():** split() divide una cadena en una lista de palabras (o subcadenas), y join() une una lista de cadenas en una sola cadena."
   ]
  },
  {
   "cell_type": "code",
   "execution_count": 14,
   "metadata": {},
   "outputs": [
    {
     "name": "stdout",
     "output_type": "stream",
     "text": [
      "['Uno,', 'Dos,', 'Tres']\n",
      "Manzana, Banana, Pera\n"
     ]
    }
   ],
   "source": [
    "frase = \"Uno, Dos, Tres\"\n",
    "print(frase.split(\" \"))  # Resultado: ['Uno', 'Dos', 'Tres']\n",
    "\n",
    "lista = ['Manzana', 'Banana', 'Pera']\n",
    "print(\", \".join(lista))  # Resultado: 'Manzana, Banana, Pera'"
   ]
  },
  {
   "cell_type": "markdown",
   "metadata": {},
   "source": [
    "### **4. Formateo de cadenas**"
   ]
  },
  {
   "cell_type": "markdown",
   "metadata": {},
   "source": [
    "Hay varias maneras de formatear cadenas en Python, lo que permite insertar valores en ellas de manera flexible.\n",
    "\n",
    "* **Operador %:** El uso del operador % permite reemplazar variables dentro de la cadena."
   ]
  },
  {
   "cell_type": "code",
   "execution_count": 18,
   "metadata": {},
   "outputs": [
    {
     "name": "stdout",
     "output_type": "stream",
     "text": [
      "Mi nombre es Juan y tengo 25 años.\n"
     ]
    }
   ],
   "source": [
    "nombre = \"Juan\"\n",
    "edad = 25\n",
    "print(\"Mi nombre es %s y tengo %d años.\" % (nombre, edad))"
   ]
  },
  {
   "cell_type": "markdown",
   "metadata": {},
   "source": [
    "* **Método format():** El método format() permite una mayor personalización al formatear cadenas."
   ]
  },
  {
   "cell_type": "code",
   "execution_count": null,
   "metadata": {},
   "outputs": [],
   "source": [
    "nombre = \"Ana\"\n",
    "edad = 30\n",
    "print(\"Mi nombre es {} y tengo {} años.\".format(nombre, edad))"
   ]
  },
  {
   "cell_type": "markdown",
   "metadata": {},
   "source": [
    "* **f-strings (Python 3.6+):** Las f-strings son una forma moderna y eficiente de formatear cadenas."
   ]
  },
  {
   "cell_type": "code",
   "execution_count": null,
   "metadata": {},
   "outputs": [],
   "source": [
    "nombre = \"Pedro\"\n",
    "edad = 22\n",
    "print(f\"Mi nombre es {nombre} y tengo {edad} años.\")"
   ]
  }
 ],
 "metadata": {
  "kernelspec": {
   "display_name": "Python 3",
   "language": "python",
   "name": "python3"
  },
  "language_info": {
   "codemirror_mode": {
    "name": "ipython",
    "version": 3
   },
   "file_extension": ".py",
   "mimetype": "text/x-python",
   "name": "python",
   "nbconvert_exporter": "python",
   "pygments_lexer": "ipython3",
   "version": "3.11.2"
  }
 },
 "nbformat": 4,
 "nbformat_minor": 2
}

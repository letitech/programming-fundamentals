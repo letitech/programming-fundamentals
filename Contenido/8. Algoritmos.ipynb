{
 "cells": [
  {
   "cell_type": "markdown",
   "metadata": {},
   "source": [
    "# **Algoritmos**"
   ]
  },
  {
   "cell_type": "markdown",
   "metadata": {},
   "source": [
    "## **Objetivo**\n",
    "Al finalizar esta lección, los estudiantes comprenderán qué es un algoritmo, su importancia en la programación y tendrán una visión general de su evolución histórica."
   ]
  },
  {
   "cell_type": "markdown",
   "metadata": {},
   "source": [
    "### **1. Introducción a los Algoritmos**"
   ]
  },
  {
   "cell_type": "markdown",
   "metadata": {},
   "source": [
    "**Definición:** Un algoritmo es una secuencia finita de pasos bien definidos que se deben seguir para resolver un problema o realizar una tarea. En otras palabras, es un conjunto de instrucciones ordenadas que describen cómo llevar a cabo una actividad específica.\n",
    "\n",
    "**Ejemplo simple:**\n",
    "\n",
    "Preparar una taza de té:\n",
    "1. Hervir agua.\n",
    "2. Poner una bolsa de té en una taza.\n",
    "3. Verter el agua hervida en la taza.\n",
    "4. Dejar reposar por 3-5 minutos.\n",
    "5. Retirar la bolsa de té.\n",
    "6. Añadir azúcar o leche al gusto.\n",
    "7. Revolver y servir."
   ]
  },
  {
   "cell_type": "markdown",
   "metadata": {},
   "source": [
    "#### **1.1. Importancia de los Algoritmos en la Programación**\n",
    "* **Eficiencia:** Un buen algoritmo puede mejorar significativamente el rendimiento de un programa. Algoritmos eficientes permiten que los programas se ejecuten más rápido y utilicen menos recursos.\n",
    "* **Solución de Problemas:** Los algoritmos proporcionan un enfoque sistemático para resolver problemas. Al dividir un problema en pasos manejables, los programadores pueden desarrollar soluciones efectivas.\n",
    "* **Reusabilidad:** Los algoritmos bien diseñados pueden ser reutilizados en diferentes programas y aplicaciones, ahorrando tiempo y esfuerzo en el desarrollo."
   ]
  },
  {
   "cell_type": "markdown",
   "metadata": {},
   "source": [
    "#### **1.3. Historia de los Algoritmos**\n",
    "* **Antigüedad:** Los primeros algoritmos conocidos son de origen babilónico, egipcio y griego. Un ejemplo es el algoritmo de Euclides para encontrar el máximo común divisor de dos números.\n",
    "* **Era Medieval:** En el siglo IX, el matemático persa Al-Khwarizmi escribió \"Al-Kitāb al-Mukhtaṣar fī Ḥisāb al-Jabr wa-l-Muqābala\", que dio origen al término \"algoritmo\".\n",
    "* **Edad Moderna:** En el siglo XIX, Ada Lovelace trabajó con Charles Babbage en la Máquina Analítica, describiendo el primer algoritmo destinado a ser ejecutado por una máquina.\n",
    "* **Era Digital:** En el siglo XX, Alan Turing propuso la máquina de Turing, un modelo matemático que formaliza el concepto de algoritmo y computación. Su trabajo sentó las bases de la informática moderna."
   ]
  },
  {
   "cell_type": "markdown",
   "metadata": {},
   "source": [
    "### **2. Características de los Algoritmos**"
   ]
  },
  {
   "cell_type": "markdown",
   "metadata": {},
   "source": [
    "* **Definición clara:** Un algoritmo debe tener un comienzo y un fin.\n",
    "* **Finitud:** Un algoritmo debe tener un número finito de pasos.\n",
    "* **Entrada y salida:** Explicación de cómo un algoritmo toma entradas y produce salidas.\n",
    "* **Efectividad:** Los pasos deben ser lo suficientemente básicos para ser llevados a cabo, en principio, por una persona utilizando solo lápiz y papel.\n",
    "* **Generalidad:** Un algoritmo debe ser aplicable a una clase de problemas, no solo a un problema específico."
   ]
  },
  {
   "cell_type": "markdown",
   "metadata": {},
   "source": [
    "### **3. Representación de Algoritmos**"
   ]
  },
  {
   "cell_type": "markdown",
   "metadata": {},
   "source": [
    "#### **3.1. Pseudocódigo**\n",
    "**Definición:** El pseudocódigo es una descripción informal de un algoritmo que utiliza una mezcla de lenguaje natural y algunas convenciones de programación. No es un lenguaje de programación real y no tiene una sintaxis rígida.\n",
    "\n",
    "**Ventajas:**\n",
    "\n",
    "* Fácil de entender para personas con diferentes niveles de experiencia en programación.\n",
    "* Independiente del lenguaje de programación, lo que permite centrarse en la lógica del algoritmo.\n",
    "\n",
    "**Sintaxis Básica:** Aunque no hay una sintaxis formal, el pseudocódigo suele usar palabras clave comunes como INICIO, FIN, SI, ENTONCES, MIENTRAS, PARA, IMPRIMIR, etc.\n",
    "\n",
    "**Ejemplo:** Algoritmo para encontrar el mayor de tres números."
   ]
  },
  {
   "cell_type": "raw",
   "metadata": {},
   "source": [
    "INICIO\n",
    "    Leer número1, número2, número3\n",
    "    SI número1 > número2 Y número1 > número3 ENTONCES\n",
    "        mayor ← número1\n",
    "    SI NO SI número2 > número3 ENTONCES\n",
    "        mayor ← número2\n",
    "    SI NO\n",
    "        mayor ← número3\n",
    "    FIN SI\n",
    "    IMPRIMIR \"El número mayor es: \", mayor\n",
    "FIN"
   ]
  },
  {
   "cell_type": "markdown",
   "metadata": {},
   "source": [
    "#### **3.2. Diagramas de Flujo**\n",
    "**Definición:** Un diagrama de flujo es una representación gráfica de un algoritmo que utiliza símbolos estandarizados para mostrar los pasos y la secuencia del proceso.\n",
    "\n",
    "**Ventajas:**\n",
    "* Facilita la visualización del flujo de control y la lógica de un algoritmo.\n",
    "* Ayuda a identificar posibles errores o mejoras en el diseño antes de la implementación.\n",
    "\n",
    "**Símbolos Comunes:**\n",
    "* **Óvalo:** Indica el inicio o el fin del proceso.\n",
    "* **Rectángulo:** Representa una instrucción o proceso.\n",
    "* **Rombo:** Representa una decisión o bifurcación en el flujo.\n",
    "* **Paralelogramo:** Representa entrada o salida de datos.\n",
    "* **Flechas:** Indican la dirección del flujo de control.\n",
    "\n",
    "**Ejemplo:** Diagrama de flujo para el mismo algoritmo de encontrar el mayor de tres números."
   ]
  },
  {
   "cell_type": "raw",
   "metadata": {},
   "source": [
    "1. Inicio: Comienza el proceso.\n",
    "2. Entrada: Leer los números número1, número2, número3.\n",
    "3. Decisión: número1 > número2 y número1 > número3?\n",
    "    * Sí: Asignar mayor = número1.\n",
    "    * No: Pasar al siguiente bloque.\n",
    "4. Decisión: número2 > número3?\n",
    "    * Sí: Asignar mayor = número2.\n",
    "    * No: Asignar mayor = número3.\n",
    "5. Salida: Imprimir \"El número mayor es: \", mayor.\n",
    "6. Fin: Termina el proceso."
   ]
  },
  {
   "cell_type": "markdown",
   "metadata": {},
   "source": [
    "### **4. Análisis de Algoritmos**"
   ]
  },
  {
   "cell_type": "markdown",
   "metadata": {},
   "source": [
    "**Definición:** El análisis de algoritmos es el estudio de cómo se comportan los algoritmos en términos de tiempo de ejecución y uso de espacio a medida que se incrementa el tamaño de la entrada.\n",
    "\n",
    "**Importancia:** Entender la eficiencia de un algoritmo es crucial para elegir la mejor solución para un problema, especialmente cuando se trabaja con grandes cantidades de datos o recursos limitados."
   ]
  },
  {
   "cell_type": "markdown",
   "metadata": {},
   "source": [
    "#### **4.1. Conceptos Clave en el Análisis de Algoritmos**\n",
    "1. **Complejidad Temporal**\n",
    "    * **Definición:** La complejidad temporal de un algoritmo mide el tiempo de ejecución del algoritmo en función del tamaño de la entrada.\n",
    "    * **Factores:**\n",
    "        * **Mejor caso:** El tiempo de ejecución mínimo que toma un algoritmo en la mejor de las situaciones posibles.\n",
    "        * **Caso promedio:** El tiempo de ejecución promedio que un algoritmo toma entre todas las entradas posibles.\n",
    "        * **Peor caso:** El tiempo de ejecución máximo que toma un algoritmo en la peor de las situaciones posibles.\n",
    "2. **Complejidad Espacial**\n",
    "    * **Definición:** La complejidad espacial mide la cantidad de memoria que un algoritmo utiliza en función del tamaño de la entrada.\n",
    "    * **Factores:**\n",
    "        * **Espacio de entrada:** La memoria necesaria para almacenar los datos de entrada.\n",
    "        * **Espacio de trabajo:** La memoria adicional que el algoritmo necesita para realizar sus cálculos."
   ]
  },
  {
   "cell_type": "markdown",
   "metadata": {},
   "source": [
    "#### **4.2. Notación Big O**\n",
    "**Definición:** La notación Big O es una forma de describir la complejidad de un algoritmo en términos del tamaño de la entrada, ignorando constantes y términos de menor importancia. Se centra en cómo el tiempo o el espacio requerido crece con el tamaño de la entrada.\n",
    "\n",
    "**Propósito:** Proporciona una forma estandarizada de comparar la eficiencia de diferentes algoritmos.\n",
    "\n",
    "**Ejemplos Comunes de Notación Big O**\n",
    "* **O(1):** Tiempo constante. El tiempo de ejecución no depende del tamaño de la entrada.\n",
    "    * **Ejemplo:** Acceso a un elemento en un array.\n",
    "* **O(n):** Tiempo lineal. El tiempo de ejecución crece linealmente con el tamaño de la entrada.\n",
    "    * **Ejemplo:** Búsqueda lineal en una lista desordenada.\n",
    "* **O(log n):** Tiempo logarítmico. El tiempo de ejecución crece logarítmicamente con el tamaño de la entrada.\n",
    "    * **Ejemplo:** Búsqueda binaria en una lista ordenada.\n",
    "* **O(n log n):** Tiempo logarítmico lineal. Común en algoritmos de ordenamiento eficientes.\n",
    "    * **Ejemplo:** Algoritmos de ordenamiento como el mergesort o el heapsort.\n",
    "* **O(n²):** Tiempo cuadrático. El tiempo de ejecución crece cuadráticamente con el tamaño de la entrada.\n",
    "    * **Ejemplo:** Algoritmo de ordenamiento burbuja o inserción en listas desordenadas.\n",
    "* **O(2^n):** Tiempo exponencial. El tiempo de ejecución crece exponencialmente con el tamaño de la entrada.\n",
    "    * **Ejemplo:** Algoritmos de fuerza bruta en problemas de optimización combinatoria.\n",
    "* **O(n!):** Tiempo factorial. El tiempo de ejecución crece factorialmente con el tamaño de la entrada.\n",
    "    * **Ejemplo:** Algoritmo de fuerza bruta para resolver el problema del viajante (TSP)."
   ]
  },
  {
   "cell_type": "markdown",
   "metadata": {},
   "source": [
    "#### **4.3. Ejemplos Prácticos de Análisis de Algoritmos**"
   ]
  },
  {
   "cell_type": "markdown",
   "metadata": {},
   "source": [
    "**Análisis de un Algoritmo de Búsqueda Lineal**\n",
    "* **Problema:** Buscar un número en una lista no ordenada.\n",
    "\n",
    "* **Algoritmo:**"
   ]
  },
  {
   "cell_type": "code",
   "execution_count": 1,
   "metadata": {},
   "outputs": [
    {
     "name": "stdout",
     "output_type": "stream",
     "text": [
      "99999\n",
      "9959\n"
     ]
    }
   ],
   "source": [
    "def busqueda_lineal(lista, objetivo):\n",
    "    for i in range(len(lista)):\n",
    "        if lista[i] == objetivo:\n",
    "            return i\n",
    "    return -1\n",
    "\n",
    "lista = []\n",
    "for i in range(0, 100000):\n",
    "    lista.append(i)\n",
    "\n",
    "print(busqueda_lineal(lista, 9959))"
   ]
  },
  {
   "cell_type": "markdown",
   "metadata": {},
   "source": [
    "* **Análisis:**\n",
    "    * **Mejor caso:** O(1) si el objetivo está en la primera posición de la lista.\n",
    "    * **Peor caso:** O(n) si el objetivo no está en la lista o está en la última posición.\n",
    "    * **Caso promedio:** O(n) ya que, en promedio, se necesita recorrer la mitad de la lista."
   ]
  },
  {
   "cell_type": "markdown",
   "metadata": {},
   "source": [
    "##### **Análisis de un Algoritmo de Búsqueda Binaria**\n",
    "**Problema:** Buscar un número en una lista ordenada.\n",
    "\n",
    "**Algoritmo:**"
   ]
  },
  {
   "cell_type": "code",
   "execution_count": null,
   "metadata": {},
   "outputs": [],
   "source": [
    "def busqueda_binaria(lista, objetivo):\n",
    "    izquierda = 0\n",
    "    derecha = len(lista) - 1\n",
    "    \n",
    "    while izquierda <= derecha:\n",
    "        medio = (izquierda + derecha) // 2\n",
    "        \n",
    "        if lista[medio] == objetivo:\n",
    "            return medio\n",
    "        elif lista[medio] < objetivo:\n",
    "            izquierda = medio + 1\n",
    "        else:\n",
    "            derecha = medio - 1\n",
    "            \n",
    "    return -1"
   ]
  },
  {
   "cell_type": "markdown",
   "metadata": {},
   "source": [
    "* **Análisis:**\n",
    "    * **Mejor caso:** O(1) si el objetivo está en el medio de la lista.\n",
    "    * **Peor caso y caso promedio:** O(log n) porque en cada iteración el tamaño de la lista se reduce a la mitad."
   ]
  },
  {
   "cell_type": "markdown",
   "metadata": {},
   "source": [
    "##### **Análisis de un Algoritmo de Ordenamiento de Burbuja**\n",
    "**Problema:** Ordenar una lista de números.\n",
    "\n",
    "**Algoritmo:**"
   ]
  },
  {
   "cell_type": "code",
   "execution_count": null,
   "metadata": {},
   "outputs": [],
   "source": [
    "def ordenamiento_burbuja(lista):\n",
    "    n = len(lista)\n",
    "    for i in range(n):\n",
    "        for j in range(0, n-i-1):\n",
    "            if lista[j] > lista[j+1]:\n",
    "                lista[j], lista[j+1] = lista[j+1], lista[j]"
   ]
  },
  {
   "cell_type": "markdown",
   "metadata": {},
   "source": [
    "* **Análisis:**\n",
    "    * **Mejor caso:** O(n) si la lista ya está ordenada y no se realizan intercambios.\n",
    "    * **Peor caso y caso promedio:** O(n²) porque hay que comparar cada par de elementos una vez."
   ]
  },
  {
   "cell_type": "markdown",
   "metadata": {},
   "source": [
    "#### **4.4. Técnicas de Optimización**\n",
    "**Reducción de Complejidad**\n",
    "* **Descripción:** Buscar maneras de reducir la complejidad del algoritmo mediante el uso de técnicas más eficientes.\n",
    "* **Ejemplo:** Cambiar un algoritmo de búsqueda lineal O(n) a una búsqueda binaria O(log n) usando un enfoque de divide y vencerás.\n",
    "\n",
    "**Uso de Memoria vs. Tiempo**\n",
    "* **Descripción:** A veces, es posible intercambiar tiempo de ejecución por espacio en memoria y viceversa.\n",
    "* **Ejemplo:** Uso de tablas de búsqueda (memoria) para reducir el tiempo de cálculo repetido."
   ]
  },
  {
   "cell_type": "markdown",
   "metadata": {},
   "source": [
    "### **5. Algoritmos Comunes**"
   ]
  },
  {
   "cell_type": "markdown",
   "metadata": {},
   "source": [
    "#### **5.1. Algoritmos de Búsqueda**\n",
    "**Búsqueda Lineal**\n",
    "* **Descripción:** La búsqueda lineal recorre cada elemento de una lista hasta encontrar el objetivo o alcanzar el final de la lista.\n",
    "* **Aplicación:** Útil cuando los datos no están ordenados o cuando la lista es relativamente pequeña.\n",
    "* **Complejidad:** O(n) en el peor y promedio de los casos, O(1) en el mejor caso.\n",
    "* **Implementación en Python:**"
   ]
  },
  {
   "cell_type": "code",
   "execution_count": null,
   "metadata": {},
   "outputs": [],
   "source": [
    "def busqueda_lineal(lista, objetivo):\n",
    "    for i in range(len(lista)):\n",
    "        if lista[i] == objetivo:\n",
    "            return i\n",
    "    return -1"
   ]
  },
  {
   "cell_type": "markdown",
   "metadata": {},
   "source": [
    "**Búsqueda Binaria**\n",
    "* **Descripción:** La búsqueda binaria requiere que la lista esté ordenada. Divide la lista en dos mitades y descarta la mitad en la que no puede estar el objetivo, repitiendo este proceso hasta encontrar el objetivo o agotar las posibilidades.\n",
    "* **Aplicación:** Muy eficiente para listas ordenadas.\n",
    "* **Complejidad:** O(log n) en el peor y promedio de los casos, O(1) en el mejor caso.\n",
    "* **Implementación en Python:**"
   ]
  },
  {
   "cell_type": "code",
   "execution_count": null,
   "metadata": {},
   "outputs": [],
   "source": [
    "def busqueda_binaria(lista, objetivo):\n",
    "    izquierda = 0\n",
    "    derecha = len(lista) - 1\n",
    "    \n",
    "    while izquierda <= derecha:\n",
    "        medio = (izquierda + derecha) // 2\n",
    "        \n",
    "        if lista[medio] == objetivo:\n",
    "            return medio\n",
    "        elif lista[medio] < objetivo:\n",
    "            izquierda = medio + 1\n",
    "        else:\n",
    "            derecha = medio - 1\n",
    "            \n",
    "    return -1"
   ]
  },
  {
   "cell_type": "markdown",
   "metadata": {},
   "source": [
    "#### **5.2. Algoritmos de Ordenamiento**\n",
    "**Ordenamiento Burbuja (Bubble Sort)**\n",
    "* **Descripción:** Compara pares adyacentes de elementos y los intercambia si están en el orden incorrecto. Este proceso se repite hasta que la lista esté ordenada.\n",
    "* **Aplicación:** Útil para listas pequeñas o cuando se requiere un algoritmo simple de entender y fácil de implementar.\n",
    "* **Complejidad:** O(n²) en el peor y promedio de los casos, O(n) en el mejor caso cuando la lista ya está ordenada.\n",
    "* **Implementación en Python:**"
   ]
  },
  {
   "cell_type": "code",
   "execution_count": 1,
   "metadata": {},
   "outputs": [],
   "source": [
    "def ordenamiento_burbuja(lista):\n",
    "    n = len(lista)\n",
    "    for i in range(n):\n",
    "        for j in range(0, n-i-1):\n",
    "            if lista[j] > lista[j+1]:\n",
    "                lista[j], lista[j+1] = lista[j+1], lista[j]"
   ]
  },
  {
   "cell_type": "markdown",
   "metadata": {},
   "source": [
    "**Ordenamiento por Inserción (Insertion Sort)**\n",
    "* **Descripción:** Construye la lista ordenada un elemento a la vez, insertando cada nuevo elemento en su posición correcta.\n",
    "* **Aplicación:** Eficiente para listas pequeñas o casi ordenadas.\n",
    "* **Complejidad:** O(n²) en el peor y promedio de los casos, O(n) en el mejor caso cuando la lista está ordenada.\n",
    "* **Implementación en Python:**"
   ]
  },
  {
   "cell_type": "code",
   "execution_count": 2,
   "metadata": {},
   "outputs": [],
   "source": [
    "def ordenamiento_insercion(lista):\n",
    "    for i in range(1, len(lista)):\n",
    "        clave = lista[i]\n",
    "        j = i - 1\n",
    "        while j >= 0 and clave < lista[j]:\n",
    "            lista[j + 1] = lista[j]\n",
    "            j -= 1\n",
    "        lista[j + 1] = clave   "
   ]
  },
  {
   "cell_type": "markdown",
   "metadata": {},
   "source": [
    "**Ordenamiento por Selección (Selection Sort)**\n",
    "* **Descripción:** Selecciona el elemento más pequeño de la lista y lo intercambia con el primer elemento no ordenado. Este proceso se repite para el resto de la lista.\n",
    "* **Aplicación:** Simple de entender, pero no eficiente para listas grandes.\n",
    "* **Complejidad:** O(n²) en el peor, promedio y mejor caso.\n",
    "**Implementación en Python:**"
   ]
  },
  {
   "cell_type": "code",
   "execution_count": 3,
   "metadata": {},
   "outputs": [],
   "source": [
    "def ordenamiento_seleccion(lista):\n",
    "    n = len(lista)\n",
    "    for i in range(n):\n",
    "        minimo = i\n",
    "        for j in range(i+1, n):\n",
    "            if lista[j] < lista[minimo]:\n",
    "                minimo = j\n",
    "        lista[i], lista[minimo] = lista[minimo], lista[i]"
   ]
  },
  {
   "cell_type": "markdown",
   "metadata": {},
   "source": [
    "**Ordenamiento Rápido (Quick Sort)**\n",
    "* **Descripción:** Utiliza un enfoque de divide y vencerás. Selecciona un \"pivote\" y divide la lista en dos sublistas: una con elementos menores que el pivote y otra con elementos mayores. Recursivamente ordena las sublistas.\n",
    "* **Aplicación:** Muy eficiente para listas grandes, especialmente si se implementa correctamente.\n",
    "* **Complejidad:** O(n log n) en el promedio y mejor caso, O(n²) en el peor caso (puede mitigarse con una buena elección del pivote).\n",
    "* **Implementación en Python:**"
   ]
  },
  {
   "cell_type": "code",
   "execution_count": 4,
   "metadata": {},
   "outputs": [],
   "source": [
    "def quicksort(lista):\n",
    "    if len(lista) <= 1:\n",
    "        return lista\n",
    "    else:\n",
    "        pivote = lista[0]\n",
    "        menores = [x for x in lista[1:] if x <= pivote]\n",
    "        mayores = [x for x in lista[1:] if x > pivote]\n",
    "        return quicksort(menores) + [pivote] + quicksort(mayores)"
   ]
  },
  {
   "cell_type": "markdown",
   "metadata": {},
   "source": [
    "#### **5.3. Algoritmos de Búsqueda y Ordenamiento en Aplicaciones Reales**\n",
    "**Búsqueda de un Contacto en un Teléfono**\n",
    "* **Descripción:** Utiliza un algoritmo de búsqueda binaria en una lista de contactos ordenada por nombre para encontrar rápidamente un contacto específico.\n",
    "\n",
    "**Ordenamiento de Resultados de Búsqueda en un Motor de Búsqueda**\n",
    "* **Descripción:** Un motor de búsqueda puede utilizar un algoritmo de ordenamiento rápido para organizar los resultados de búsqueda en función de la relevancia.\n",
    "\n",
    "**Ordenamiento de Productos en una Tienda en Línea**\n",
    "* **Descripción:** Los productos pueden ser ordenados por precio, popularidad o relevancia utilizando algoritmos de ordenamiento como el ordenamiento por inserción para listas pequeñas o casi ordenadas."
   ]
  }
 ],
 "metadata": {
  "kernelspec": {
   "display_name": "Python 3",
   "language": "python",
   "name": "python3"
  },
  "language_info": {
   "codemirror_mode": {
    "name": "ipython",
    "version": 3
   },
   "file_extension": ".py",
   "mimetype": "text/x-python",
   "name": "python",
   "nbconvert_exporter": "python",
   "pygments_lexer": "ipython3",
   "version": "3.11.2"
  }
 },
 "nbformat": 4,
 "nbformat_minor": 2
}

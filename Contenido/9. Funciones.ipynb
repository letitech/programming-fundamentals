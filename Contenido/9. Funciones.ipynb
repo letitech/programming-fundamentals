{
 "cells": [
  {
   "cell_type": "markdown",
   "metadata": {},
   "source": [
    "# **Funciones**"
   ]
  },
  {
   "cell_type": "markdown",
   "metadata": {},
   "source": [
    "## **Objetivo**\n",
    "Al finalizar esta lección, los estudiantes comprenderán cómo definir, llamar y utilizar funciones en Python para organizar y reutilizar código de manera eficiente. También aprenderán a trabajar con parámetros, valores de retorno y funciones lambda."
   ]
  },
  {
   "cell_type": "markdown",
   "metadata": {},
   "source": [
    "### **1. Introducción a las Funciones**"
   ]
  },
  {
   "cell_type": "markdown",
   "metadata": {},
   "source": [
    "**Definición**: Una función es un bloque de código que realiza una tarea específica y puede ser reutilizado en diferentes partes de un programa. Las funciones permiten estructurar mejor el código y evitar la repetición.\n",
    "\n",
    "**Beneficios**:\n",
    "  - Reutilización de código.\n",
    "  - Mejora de la legibilidad.\n",
    "  - Facilita la depuración y el mantenimiento del código."
   ]
  },
  {
   "cell_type": "markdown",
   "metadata": {},
   "source": [
    "### **2. Definir una Función**"
   ]
  },
  {
   "cell_type": "markdown",
   "metadata": {},
   "source": [
    "**Sintaxis**:\n",
    "  ```python\n",
    "  def function_name(parameters):\n",
    "      # Bloque de código de la función\n",
    "      return value  # (Opcional)\n",
    "  ```\n",
    "**Explicación**:\n",
    "  - `def` es la palabra clave para definir una función.\n",
    "  - `function_name` es el nombre de la función.\n",
    "  - `parameters` son valores que se pasan a la función (opcional).\n",
    "  - `return` se utiliza para devolver un valor desde la función (opcional).\n",
    "  \n",
    "**Ejemplo Básico**:\n",
    "  ```python\n",
    "  def greet():\n",
    "      print(\"Hola, bienvenido!\")\n",
    "  greet()  # Llamada a la función\n",
    "  ```"
   ]
  },
  {
   "cell_type": "markdown",
   "metadata": {},
   "source": [
    "### **3. Parámetros y Argumentos**"
   ]
  },
  {
   "cell_type": "markdown",
   "metadata": {},
   "source": [
    "- **Parámetros**: Son variables que se definen en la función y que reciben los valores de entrada.\n",
    "- **Argumentos**: Son los valores reales que se pasan a la función cuando se llama.\n",
    "- **Tipos de Parámetros**:\n",
    "  - **Parámetros Posicionales**: Los valores se pasan en el mismo orden en que se definen los parámetros.\n",
    "  - **Parámetros con Valor Predeterminado**: Se definen con un valor por defecto y se utilizan si no se proporciona un argumento.\n",
    "  \n",
    "- **Ejemplo**:\n",
    "  ```python\n",
    "  def greet(name, message=\"Bienvenido\"):\n",
    "      print(f\"Hola, {name}! {message}\")\n",
    "  \n",
    "  greet(\"Luis\")  # Usa el valor predeterminado para message\n",
    "  greet(\"Ana\", \"Cómo estás?\")  # Proporciona un valor específico para message\n",
    "  ```"
   ]
  },
  {
   "cell_type": "markdown",
   "metadata": {},
   "source": [
    "### **4. Valores de Retorno**"
   ]
  },
  {
   "cell_type": "markdown",
   "metadata": {},
   "source": [
    "- **Definición**: Las funciones pueden devolver valores utilizando la instrucción `return`. Esto permite que las funciones proporcionen resultados que pueden ser utilizados por otras partes del programa.\n",
    "- **Sintaxis**:\n",
    "  ```python\n",
    "  def sum(a, b):\n",
    "      return a + b\n",
    "  \n",
    "  result = sum(3, 4)\n",
    "  print(result)  # Imprime 7\n",
    "  ```\n",
    "- **Retorno Múltiple**:\n",
    "  - **Definición**: Una función puede devolver múltiples valores como una tupla.\n",
    "  - **Ejemplo**:\n",
    "    ```python\n",
    "    def divide(a, b):\n",
    "        quotient = a // b\n",
    "        remainder = a % b\n",
    "        return quotient, remainder\n",
    "    \n",
    "    q, r = divide(10, 3)\n",
    "    print(f\"Resultado: {q}, Resto: {r}\")\n",
    "    ```"
   ]
  },
  {
   "cell_type": "markdown",
   "metadata": {},
   "source": [
    "### 5. Alcance de las Variables (Scope)"
   ]
  },
  {
   "cell_type": "markdown",
   "metadata": {},
   "source": [
    "**Definición**: El alcance de una variable determina dónde puede ser accedida en el código. Las variables definidas dentro de una función tienen un alcance local y no pueden ser accedidas fuera de esa función.\n",
    "\n",
    "**Ejemplo**:\n",
    "  ```python\n",
    "  def my_function():\n",
    "      local_var = 10\n",
    "      print(local_var)\n",
    "  \n",
    "  my_function()  # Imprime 10\n",
    "  print(local_var)  # Error: local_var no está definida fuera de la función\n",
    "  ```\n",
    "  \n",
    "**Variables Globales**:\n",
    "  - Las variables definidas fuera de una función tienen un alcance global y pueden ser accedidas dentro de las funciones.\n",
    "  - **Ejemplo**:\n",
    "    ```python\n",
    "    global_var = 20\n",
    "    \n",
    "    def my_function():\n",
    "        print(global_var)\n",
    "    \n",
    "    my_function()  # Imprime 20\n",
    "    ```"
   ]
  },
  {
   "cell_type": "markdown",
   "metadata": {},
   "source": [
    "### 6. **Funciones Lambda**"
   ]
  },
  {
   "cell_type": "markdown",
   "metadata": {},
   "source": [
    "**Definición**: Las funciones lambda son pequeñas funciones anónimas definidas con la palabra clave `lambda`. Se utilizan para realizar operaciones simples en una sola línea.\n",
    "\n",
    "**Sintaxis**:\n",
    "  ```python\n",
    "  lambda arguments: expression\n",
    "  ```\n",
    "\n",
    "**Ejemplo**:\n",
    "  ```python\n",
    "  add = lambda x, y: x + y\n",
    "  print(add(3, 4))  # Imprime 7\n",
    "  ```"
   ]
  },
  {
   "cell_type": "markdown",
   "metadata": {},
   "source": [
    "### 7. **Funciones como Argumentos**"
   ]
  },
  {
   "cell_type": "markdown",
   "metadata": {},
   "source": [
    "**Definición**: Las funciones pueden ser pasadas como argumentos a otras funciones, lo que permite una gran flexibilidad en el diseño del código.\n",
    "\n",
    "**Ejemplo**:\n",
    "  ```python\n",
    "  def apply_function(func, value):\n",
    "      return func(value)\n",
    "  \n",
    "  double = lambda x: x * 2\n",
    "  print(apply_function(double, 5))  # Imprime 10\n",
    "  ```"
   ]
  },
  {
   "cell_type": "markdown",
   "metadata": {},
   "source": [
    "### **8. Documentación de Funciones (Docstrings)**"
   ]
  },
  {
   "cell_type": "markdown",
   "metadata": {},
   "source": [
    "**Definición**: Es importante documentar las funciones para explicar qué hacen, qué parámetros aceptan y qué valor devuelven. Esto se hace con un docstring, una cadena de texto que aparece justo después de la definición de la función.\n",
    "\n",
    "**Ejemplo**:\n",
    "  ```python\n",
    "  def multiply(a, b):\n",
    "      \"\"\"\n",
    "      Esta función toma dos números y devuelve su producto.\n",
    "      \n",
    "      Parámetros:\n",
    "      a (int, float): El primer número.\n",
    "      b (int, float): El segundo número.\n",
    "      \n",
    "      Retorna:\n",
    "      int, float: El producto de a y b.\n",
    "      \"\"\"\n",
    "      return a * b\n",
    "  \n",
    "  help(multiply)  # Muestra el docstring de la función\n",
    "  ```"
   ]
  }
 ],
 "metadata": {
  "kernelspec": {
   "display_name": "Python 3",
   "language": "python",
   "name": "python3"
  },
  "language_info": {
   "codemirror_mode": {
    "name": "ipython",
    "version": 3
   },
   "file_extension": ".py",
   "mimetype": "text/x-python",
   "name": "python",
   "nbconvert_exporter": "python",
   "pygments_lexer": "ipython3",
   "version": "3.11.2"
  }
 },
 "nbformat": 4,
 "nbformat_minor": 2
}

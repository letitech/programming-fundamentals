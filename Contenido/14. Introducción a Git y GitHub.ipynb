{
 "cells": [
  {
   "cell_type": "markdown",
   "metadata": {},
   "source": [
    "# **Introducción a Git y GitHub**"
   ]
  },
  {
   "cell_type": "markdown",
   "metadata": {},
   "source": [
    "## **Objetivo**\n",
    "Al finalizar esta lección, los estudiantes comprenderán los conceptos fundamentales de control de versiones utilizando Git, podrán gestionar repositorios de código en GitHub, y aprenderán a colaborar en proyectos de desarrollo de software de manera efectiva."
   ]
  },
  {
   "cell_type": "markdown",
   "metadata": {},
   "source": [
    "### **1. ¿Qué es Git?**"
   ]
  },
  {
   "cell_type": "markdown",
   "metadata": {},
   "source": [
    "Git es un sistema de control de versiones distribuido que permite a varios usuarios trabajar en el mismo proyecto de manera simultánea y controlar los cambios en el código fuente. A través de Git, podemos guardar y revisar el historial de modificaciones en un proyecto, revertir cambios, y colaborar de forma eficiente con otros desarrolladores.\n",
    "\n",
    "**Características clave de Git:**\n",
    "\n",
    "* **Control de versiones distribuido:** Cada usuario tiene una copia completa del historial del proyecto.\n",
    "\n",
    "* **Seguimiento de cambios:** Git permite llevar un registro detallado de cada cambio en el proyecto.\n",
    "\n",
    "* **Ramas (branches):** Puedes crear diferentes versiones de un proyecto (ramas) y trabajar en ellas de forma independiente."
   ]
  },
  {
   "cell_type": "markdown",
   "metadata": {},
   "source": [
    "### **2. ¿Qué es GitHub?**"
   ]
  },
  {
   "cell_type": "markdown",
   "metadata": {},
   "source": [
    "GitHub es una plataforma basada en la nube que permite almacenar y compartir proyectos Git de forma remota. Facilita la colaboración en equipo y proporciona herramientas para la revisión de código, la gestión de proyectos, y la integración continua.\n",
    "\n",
    "**Ventajas de GitHub:**\n",
    "\n",
    "* **Repositorios públicos y privados:** GitHub permite alojar repositorios de código tanto públicos como privados.\n",
    "\n",
    "* **Colaboración:** GitHub facilita la contribución a proyectos a través de pull requests y issues.\n",
    "\n",
    "* **Visibilidad y control:** Se puede ver el historial del código y administrar cambios fácilmente.\n",
    "\n",
    "* **Integración:** GitHub se integra con varias herramientas de desarrollo y automatización."
   ]
  },
  {
   "cell_type": "markdown",
   "metadata": {},
   "source": [
    "### **3. Conceptos clave en Git**"
   ]
  },
  {
   "cell_type": "markdown",
   "metadata": {},
   "source": [
    "* **Repositorio (Repository):** Es el lugar donde se almacena todo el historial de cambios del proyecto. Puede ser local (en tu computadora) o remoto (en GitHub).\n",
    "\n",
    "* **Commit:** Un commit es un conjunto de cambios que se guardan en el historial del proyecto. Cada commit tiene un mensaje que describe los cambios realizados.\n",
    "\n",
    "* **Branch (Rama):** Es una bifurcación del proyecto donde puedes desarrollar de forma independiente sin afectar la rama principal (generalmente llamada main o master).\n",
    "\n",
    "* **Merge:** La acción de combinar los cambios de una rama en otra, generalmente en la rama principal, después de que los cambios se han completado.\n",
    "\n",
    "* **Pull Request:** En GitHub, es una solicitud para que los cambios de una rama se integren en la rama principal. Los colaboradores revisan los cambios antes de aceptarlos."
   ]
  },
  {
   "cell_type": "markdown",
   "metadata": {},
   "source": [
    "### **4. Flujo de trabajo básico con Git y GitHub**"
   ]
  },
  {
   "cell_type": "markdown",
   "metadata": {},
   "source": [
    "**1. Inicializar un repositorio local:** \n",
    "\n",
    "```bash\n",
    "git init\n",
    "```\n",
    "\n",
    "Esto convierte una carpeta en un repositorio de Git, donde se pueden rastrear cambios.\n",
    "\n",
    "**2. Clonar un repositorio remoto:** \n",
    "\n",
    "```bash\n",
    "git clone <url-del-repositorio>\n",
    "```\n",
    "\n",
    "Esto descarga una copia del repositorio remoto a tu máquina local.\n",
    "\n",
    "**3. Hacer cambios en los archivos del proyecto.**\n",
    "\n",
    "**4. Agregar los cambios al área de preparación (staging):**\n",
    "\n",
    "```bash\n",
    "git add <archivo>\n",
    "```\n",
    "\n",
    "O para agregar todos los archivos:\n",
    "\n",
    "```bash\n",
    "git add .\n",
    "```\n",
    "\n",
    "**5. Crear un commit:**\n",
    "\n",
    "```bash\n",
    "git commit -m \"Mensaje descriptivo de los cambios\"\n",
    "```\n",
    "\n",
    "**6. Subir los cambios al repositorio remoto en GitHub:**\n",
    "\n",
    "```bash\n",
    "git push origin <nombre-de-la-rama>\n",
    "```\n",
    "\n",
    "**7. Actualizar tu repositorio local con los cambios del repositorio remoto:**\n",
    "\n",
    "```bash\n",
    "git pull\n",
    "```"
   ]
  },
  {
   "cell_type": "markdown",
   "metadata": {},
   "source": [
    "### **5. Comandos esenciales de Git**"
   ]
  },
  {
   "cell_type": "markdown",
   "metadata": {},
   "source": [
    "**Ver el estado del repositorio:**\n",
    "```bash\n",
    "git status\n",
    "```\n",
    "\n",
    "Muestra qué archivos han cambiado y si están preparados para un commit.\n",
    "\n",
    "**Ver el historial de commits:**\n",
    "\n",
    "```bash\n",
    "git log\n",
    "```\n",
    "\n",
    "Muestra los commits realizados, junto con sus mensajes y detalles.\n",
    "\n",
    "**Crear una nueva rama:**\n",
    "\n",
    "```bash\n",
    "git checkout -b <nombre-de-la-rama>\n",
    "```\n",
    "\n",
    "Crea una nueva rama y cambia a ella.\n",
    "\n",
    "**Fusionar una rama:**\n",
    "\n",
    "```bash\n",
    "git merge <nombre-de-la-rama>\n",
    "```\n",
    "\n",
    "Combina los cambios de la rama especificada en la rama actual."
   ]
  },
  {
   "cell_type": "markdown",
   "metadata": {},
   "source": [
    "### **6. Colaborar usando GitHub**"
   ]
  },
  {
   "cell_type": "markdown",
   "metadata": {},
   "source": [
    "Pasos básicos para colaborar en un proyecto en GitHub:\n",
    "\n",
    "1. Fork el repositorio original para crear una copia en tu cuenta.\n",
    "\n",
    "2. Clonar el repositorio en tu máquina local.\n",
    "\n",
    "3. Crear una nueva rama para trabajar en las modificaciones.\n",
    "\n",
    "4. Realizar los cambios y hacer commits.\n",
    "\n",
    "5. Push de los cambios a tu repositorio en GitHub.\n",
    "\n",
    "6. Crear un Pull Request en el repositorio original para que los cambios sean revisados e integrados."
   ]
  },
  {
   "cell_type": "markdown",
   "metadata": {},
   "source": [
    "### **7. Buenas prácticas en Git y GitHub**"
   ]
  },
  {
   "cell_type": "markdown",
   "metadata": {},
   "source": [
    "1. **Commits pequeños y frecuentes:** Hacer commits con cambios pequeños y bien definidos facilita el seguimiento y revisión de los cambios.\n",
    "\n",
    "2. **Mensajes de commit claros:** Los mensajes deben ser descriptivos y breves, explicando qué se hizo en cada commit.\n",
    "\n",
    "3. **Trabajar en ramas:** Desarrolla nuevas características o correcciones en ramas separadas, para mantener la rama principal limpia y estable.\n",
    "\n",
    "4. **Pull Requests y revisión de código:** Asegúrate de solicitar revisiones antes de fusionar cambios importantes, para detectar errores o mejorar la calidad del código."
   ]
  }
 ],
 "metadata": {
  "kernelspec": {
   "display_name": "Python 3",
   "language": "python",
   "name": "python3"
  },
  "language_info": {
   "codemirror_mode": {
    "name": "ipython",
    "version": 3
   },
   "file_extension": ".py",
   "mimetype": "text/x-python",
   "name": "python",
   "nbconvert_exporter": "python",
   "pygments_lexer": "ipython3",
   "version": "3.11.2"
  }
 },
 "nbformat": 4,
 "nbformat_minor": 2
}

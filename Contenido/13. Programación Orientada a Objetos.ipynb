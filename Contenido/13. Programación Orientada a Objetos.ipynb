{
 "cells": [
  {
   "cell_type": "markdown",
   "metadata": {},
   "source": [
    "# **Programación Orientada a Objetos en Python (POO)**"
   ]
  },
  {
   "cell_type": "markdown",
   "metadata": {},
   "source": [
    "## **Objetivo**\n",
    "Al finalizar esta lección, los estudiantes podrán comprender la estructura básica de una clase, cómo crear objetos, encapsular datos, y utilizar conceptos como herencia y polimorfismo para organizar y reutilizar código de forma eficiente."
   ]
  },
  {
   "cell_type": "markdown",
   "metadata": {},
   "source": [
    "### **1. Introducción a la Programación Orientada a Objetos**"
   ]
  },
  {
   "cell_type": "markdown",
   "metadata": {},
   "source": [
    "La POO es un paradigma de programación que organiza el código en clases y objetos. En lugar de basarse en funciones y procedimientos, se centra en agrupar datos y comportamientos dentro de objetos. En Python, todo es un objeto, lo que hace que sea un lenguaje ideal para aprender POO.\n",
    "\n",
    "**Conceptos clave:**\n",
    "\n",
    "* **Clase:** Es una plantilla para crear objetos. Define atributos (propiedades) y métodos (funciones).\n",
    "\n",
    "* **Objeto:** Es una instancia de una clase.\n",
    "\n",
    "* **Atributos:** Son variables que almacenan datos sobre el objeto.\n",
    "\n",
    "* **Métodos:** Son funciones dentro de una clase que definen el comportamiento del objeto."
   ]
  },
  {
   "cell_type": "markdown",
   "metadata": {},
   "source": [
    "### **2. Definiendo una Clase y un Objeto**"
   ]
  },
  {
   "cell_type": "markdown",
   "metadata": {},
   "source": [
    "La clase se define usando la palabra clave class, y los objetos se crean instanciando la clase.\n",
    "\n",
    "Ejemplo básico:"
   ]
  },
  {
   "cell_type": "code",
   "execution_count": 7,
   "metadata": {},
   "outputs": [
    {
     "name": "stdout",
     "output_type": "stream",
     "text": [
      "Rex dice: ¡Guau, guau!\n",
      "Nombre: Rex y raza Pastor Alemán\n"
     ]
    }
   ],
   "source": [
    "class Perro:\n",
    "    # Método inicializador o constructor\n",
    "    def __init__(self, nombre, raza):\n",
    "        self.nombre = nombre\n",
    "        self.raza = raza\n",
    "\n",
    "    # Método para que el perro ladre\n",
    "    def ladrar(self):\n",
    "        return f\"{self.nombre} dice: ¡Guau, guau!\"\n",
    "    \n",
    "    def info(self):\n",
    "        return f\"Nombre: {self.nombre} y raza: {self.raza}\" \n",
    "\n",
    "# Creación de un objeto de la clase Perro\n",
    "mi_perro = Perro(\"Rex\", \"Pastor Alemán\")\n",
    "\n",
    "# Llamada a un método del objeto\n",
    "print(mi_perro.ladrar())  # Salida: Rex dice: ¡Guau, guau!\n",
    "print(mi_perro.info())"
   ]
  },
  {
   "cell_type": "markdown",
   "metadata": {},
   "source": [
    "* **_init_:** Es el constructor, se ejecuta automáticamente cuando se crea una nueva instancia de la clase.\n",
    "\n",
    "* **self:** Es una referencia al objeto actual. Es obligatorio en todos los métodos de instancia."
   ]
  },
  {
   "cell_type": "markdown",
   "metadata": {},
   "source": [
    "### **3. Encapsulamiento**"
   ]
  },
  {
   "cell_type": "markdown",
   "metadata": {},
   "source": [
    "El encapsulamiento es la ocultación de los detalles internos de un objeto. Se utilizan atributos y métodos privados para restringir el acceso desde fuera de la clase.\n",
    "\n",
    "**Atributos privados:**\n",
    "\n",
    "Los atributos privados en Python se denotan con un guion bajo (_) o doble guion bajo (__) antes del nombre."
   ]
  },
  {
   "cell_type": "code",
   "execution_count": 9,
   "metadata": {},
   "outputs": [
    {
     "name": "stdout",
     "output_type": "stream",
     "text": [
      "1500\n",
      "Cena\n"
     ]
    }
   ],
   "source": [
    "class CuentaBancaria:\n",
    "    def __init__(self, titular, saldo):\n",
    "        self.titular = titular\n",
    "        self.__saldo = saldo  # Atributo privado\n",
    "\n",
    "    def depositar(self, cantidad):\n",
    "        if cantidad > 0:\n",
    "            self.__saldo += cantidad\n",
    "\n",
    "    def obtener_saldo(self):\n",
    "        return self.__saldo\n",
    "\n",
    "# Crear objeto\n",
    "cuenta = CuentaBancaria(\"Esono\", 1000)\n",
    "cuenta.depositar(500)\n",
    "print(cuenta.obtener_saldo())  # Salida: 1500\n",
    "cuenta.titular = \"Cena\"\n",
    "print(cuenta.titular)"
   ]
  },
  {
   "cell_type": "markdown",
   "metadata": {},
   "source": [
    "### **4. Herencia**"
   ]
  },
  {
   "cell_type": "markdown",
   "metadata": {},
   "source": [
    "La herencia permite crear nuevas clases basadas en clases existentes. La clase hija hereda los atributos y métodos de la clase padre, pero también puede agregar o modificar comportamiento.\n",
    "\n",
    "Ejemplo de herencia:"
   ]
  },
  {
   "cell_type": "code",
   "execution_count": 13,
   "metadata": {},
   "outputs": [
    {
     "name": "stdout",
     "output_type": "stream",
     "text": [
      "Animal hace un sonido.\n",
      "Rex dice: ¡Guau, guau!\n"
     ]
    }
   ],
   "source": [
    "class Animal:\n",
    "    def __init__(self, nombre):\n",
    "        self.nombre = nombre\n",
    "\n",
    "    def hacer_sonido(self):\n",
    "        return f'{self.nombre} hace un sonido.'\n",
    "\n",
    "class Perro(Animal):\n",
    "    def hacer_sonido(self):\n",
    "        return f'{self.nombre} dice: ¡Guau, guau!'\n",
    "\n",
    "animal = Animal(\"Animal\")\n",
    "print(animal.hacer_sonido()) \n",
    "mi_perro = Perro(\"Rex\")\n",
    "print(mi_perro.hacer_sonido())  # Salida: Rex dice: ¡Guau, guau!'"
   ]
  },
  {
   "cell_type": "markdown",
   "metadata": {},
   "source": [
    "### **5. Polimorfismo**"
   ]
  },
  {
   "cell_type": "markdown",
   "metadata": {},
   "source": [
    "El polimorfismo permite que diferentes clases tengan métodos con el mismo nombre, pero con comportamientos diferentes.\n",
    "\n",
    "Ejemplo de polimorfismo:"
   ]
  },
  {
   "cell_type": "code",
   "execution_count": 14,
   "metadata": {},
   "outputs": [
    {
     "name": "stdout",
     "output_type": "stream",
     "text": [
      "Rex dice: ¡Guau, guau!\n",
      "Misi dice: ¡Miau, miau!\n"
     ]
    }
   ],
   "source": [
    "class Gato(Animal):\n",
    "    def hacer_sonido(self):\n",
    "        return f'{self.nombre} dice: ¡Miau, miau!'\n",
    "\n",
    "animales = [Perro(\"Rex\"), Gato(\"Misi\")]\n",
    "\n",
    "for animal in animales:\n",
    "    print(animal.hacer_sonido())\n",
    "\n",
    "# Salida:\n",
    "# Rex dice: ¡Guau, guau!\n",
    "# Misi dice: ¡Miau, miau!"
   ]
  },
  {
   "cell_type": "markdown",
   "metadata": {},
   "source": [
    "### **6. Composición**"
   ]
  },
  {
   "cell_type": "markdown",
   "metadata": {},
   "source": [
    "La composición es cuando una clase está compuesta por uno o más objetos de otras clases. Es una forma de reutilización de código sin herencia.\n",
    "\n",
    "Ejemplo de composición:"
   ]
  },
  {
   "cell_type": "code",
   "execution_count": 15,
   "metadata": {},
   "outputs": [
    {
     "name": "stdout",
     "output_type": "stream",
     "text": [
      "Mi auto es un Toyota con motor V8\n"
     ]
    }
   ],
   "source": [
    "class Motor:\n",
    "    def __init__(self, tipo):\n",
    "        self.tipo = tipo\n",
    "\n",
    "class Auto:\n",
    "    def __init__(self, marca, motor):\n",
    "        self.marca = marca\n",
    "        self.motor = motor\n",
    "\n",
    "motor_auto = Motor(\"V8\")\n",
    "mi_auto = Auto(\"Toyota\", motor_auto)\n",
    "\n",
    "print(f'Mi auto es un {mi_auto.marca} con motor {mi_auto.motor.tipo}')\n",
    "# Salida: Mi auto es un Toyota con motor V8"
   ]
  },
  {
   "cell_type": "markdown",
   "metadata": {},
   "source": [
    "### **7. Métodos y Atributos de Clase (Estáticos)**"
   ]
  },
  {
   "cell_type": "markdown",
   "metadata": {},
   "source": [
    "Los métodos de clase son aquellos que afectan a la clase en sí, en lugar de a instancias individuales. Se definen usando el decorador @classmethod. Los métodos estáticos son independientes de la instancia de la clase, y se definen con @staticmethod.\n",
    "\n",
    "Ejemplo:"
   ]
  },
  {
   "cell_type": "code",
   "execution_count": 16,
   "metadata": {},
   "outputs": [
    {
     "name": "stdout",
     "output_type": "stream",
     "text": [
      "2\n"
     ]
    }
   ],
   "source": [
    "class Contador:\n",
    "    cuenta = 0  # Atributo de clase\n",
    "\n",
    "    def __init__(self):\n",
    "        Contador.cuenta += 1\n",
    "\n",
    "    @classmethod\n",
    "    def obtener_cuenta(cls):\n",
    "        return cls.cuenta\n",
    "\n",
    "# Crear objetos\n",
    "obj1 = Contador()\n",
    "obj2 = Contador()\n",
    "\n",
    "print(Contador.obtener_cuenta())  # Salida: 2"
   ]
  }
 ],
 "metadata": {
  "kernelspec": {
   "display_name": "Python 3",
   "language": "python",
   "name": "python3"
  },
  "language_info": {
   "codemirror_mode": {
    "name": "ipython",
    "version": 3
   },
   "file_extension": ".py",
   "mimetype": "text/x-python",
   "name": "python",
   "nbconvert_exporter": "python",
   "pygments_lexer": "ipython3",
   "version": "3.11.2"
  }
 },
 "nbformat": 4,
 "nbformat_minor": 2
}

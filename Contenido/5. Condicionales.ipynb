{
 "cells": [
  {
   "cell_type": "markdown",
   "metadata": {},
   "source": [
    "# **Condicionales**"
   ]
  },
  {
   "cell_type": "markdown",
   "metadata": {},
   "source": [
    "## **Objetivo**\n",
    "Al finalizar esta lección, los estudiantes comprenderán cómo utilizar estructuras condicionales en Python para tomar decisiones en su código, utilizando las instrucciones if, elif y else."
   ]
  },
  {
   "cell_type": "markdown",
   "metadata": {},
   "source": [
    "### **1. Introducción a las Estructuras Condicionales**"
   ]
  },
  {
   "cell_type": "markdown",
   "metadata": {},
   "source": [
    "**Definición:** Las estructuras condicionales permiten que el programa ejecute diferentes bloques de código basándose en condiciones específicas. Son fundamentales para controlar el flujo de ejecución en un programa."
   ]
  },
  {
   "cell_type": "markdown",
   "metadata": {},
   "source": [
    "### **2. Instrucción if**"
   ]
  },
  {
   "cell_type": "markdown",
   "metadata": {},
   "source": [
    "**Definición:** La instrucción if permite ejecutar un bloque de código si se cumple una condición.\n",
    "\n",
    "**Sintaxis:**\n",
    "```python\n",
    "if condition:\n",
    "        # Bloque de código a ejecutar si la condición es verdadera\n",
    "```\n",
    "\n",
    "**Ejemplo:**"
   ]
  },
  {
   "cell_type": "code",
   "execution_count": 2,
   "metadata": {},
   "outputs": [
    {
     "name": "stdout",
     "output_type": "stream",
     "text": [
      "Eres mayor de edad.\n"
     ]
    }
   ],
   "source": [
    "age = 18\n",
    "if age >= 18:\n",
    "    print(\"Eres mayor de edad.\")"
   ]
  },
  {
   "cell_type": "markdown",
   "metadata": {},
   "source": [
    "### **3. Instrucción else**"
   ]
  },
  {
   "cell_type": "markdown",
   "metadata": {},
   "source": [
    "**Definición:** La instrucción else permite ejecutar un bloque de código si la condición en el if es falsa.\n",
    "\n",
    "**Sintaxis:**\n",
    "\n",
    "```python\n",
    "if condition:\n",
    "        # Bloque de código a ejecutar si la condición es verdadera\n",
    "else:\n",
    "        # Bloque de código a ejecutar si la condición es falsa\n",
    "```\n",
    "\n",
    "**Ejemplo:**"
   ]
  },
  {
   "cell_type": "code",
   "execution_count": null,
   "metadata": {},
   "outputs": [],
   "source": [
    "age = 16\n",
    "if age >= 18:\n",
    "    print(\"Eres mayor de edad.\")\n",
    "else:\n",
    "    print(\"Eres menor de edad.\")"
   ]
  },
  {
   "cell_type": "markdown",
   "metadata": {},
   "source": [
    "### **4. Instrucción elif**"
   ]
  },
  {
   "cell_type": "markdown",
   "metadata": {},
   "source": [
    "**Definición:** La instrucción elif (else if) permite comprobar múltiples condiciones. Se utiliza cuando se tienen más de dos condiciones que se deben evaluar.\n",
    "\n",
    "**Sintaxis:**\n",
    "\n",
    "```python\n",
    "if condition1:\n",
    "        # Bloque de código a ejecutar si la condición1 es verdadera\n",
    "elif condition2:\n",
    "        # Bloque de código a ejecutar si la condición1 es falsa y la condición2 es verdadera\n",
    "else:\n",
    "        # Bloque de código a ejecutar si todas las condiciones anteriores son falsas\n",
    "```\n",
    "**Ejemplo:**"
   ]
  },
  {
   "cell_type": "code",
   "execution_count": 3,
   "metadata": {},
   "outputs": [
    {
     "name": "stdout",
     "output_type": "stream",
     "text": [
      "Notable\n"
     ]
    }
   ],
   "source": [
    "score = 8.5\n",
    "if score >= 9:\n",
    "    print(\"Sobresaliente\")\n",
    "elif score >= 7:\n",
    "    print(\"Notable\")\n",
    "elif score >= 5:\n",
    "    print(\"Aprobado\")\n",
    "else:\n",
    "    print(\"Suspenso\")"
   ]
  },
  {
   "cell_type": "markdown",
   "metadata": {},
   "source": [
    "#### **5. Operadores Lógicos en Condicionales**"
   ]
  },
  {
   "cell_type": "markdown",
   "metadata": {},
   "source": [
    "**Definición:** Definición: Los operadores lógicos (and, or, not) se utilizan para combinar múltiples condiciones en una sola expresión.\n",
    "\n",
    "**Ejemplos:**"
   ]
  },
  {
   "cell_type": "markdown",
   "metadata": {},
   "source": [
    "AND (and): Ambas condiciones deben ser verdaderas."
   ]
  },
  {
   "cell_type": "code",
   "execution_count": null,
   "metadata": {},
   "outputs": [],
   "source": [
    "age = 20\n",
    "has_id = True\n",
    "if age >= 18 and has_id:\n",
    "    print(\"Puedes entrar.\")"
   ]
  },
  {
   "cell_type": "markdown",
   "metadata": {},
   "source": [
    "OR (or): Al menos una de las condiciones debe ser verdadera."
   ]
  },
  {
   "cell_type": "code",
   "execution_count": null,
   "metadata": {},
   "outputs": [],
   "source": [
    "age = 16\n",
    "has_permission = True\n",
    "if age >= 18 or has_permission:\n",
    "    print(\"Puedes entrar.\")"
   ]
  },
  {
   "cell_type": "markdown",
   "metadata": {},
   "source": [
    "NOT (not): Invierte el valor de la condición."
   ]
  },
  {
   "cell_type": "code",
   "execution_count": null,
   "metadata": {},
   "outputs": [],
   "source": [
    "is_member = False\n",
    "if not is_member:\n",
    "    print(\"Debes registrarte.\")"
   ]
  },
  {
   "cell_type": "markdown",
   "metadata": {},
   "source": [
    "#### **6. Condicionales Anidados**"
   ]
  },
  {
   "cell_type": "markdown",
   "metadata": {},
   "source": [
    "**Definición:** Los condicionales anidados son condicionales dentro de otros condicionales. Son útiles cuando se necesita verificar múltiples niveles de condiciones.\n",
    "\n",
    "**Ejemplo:**"
   ]
  },
  {
   "cell_type": "code",
   "execution_count": null,
   "metadata": {},
   "outputs": [],
   "source": [
    "age = 22\n",
    "if age >= 18:\n",
    "    if age < 21:\n",
    "        print(\"Eres mayor de edad, pero aún no puedes beber alcohol en EE.UU.\")\n",
    "    else:\n",
    "        print(\"Eres mayor de edad y puedes beber alcohol en EE.UU.\")\n",
    "else:\n",
    "    print(\"Eres menor de edad.\")"
   ]
  },
  {
   "cell_type": "markdown",
   "metadata": {},
   "source": [
    "### **7. Expresiones Condicionales (Operador Ternario)**"
   ]
  },
  {
   "cell_type": "markdown",
   "metadata": {},
   "source": [
    "**Definición:** Permiten evaluar una condición y asignar un valor basado en el resultado de esa condición en una sola línea de código.\n",
    "\n",
    "**Sintaxis:**\n",
    "\n",
    "value = true_value if condition else false_value\n",
    "\n",
    "**Ejemplo:**"
   ]
  },
  {
   "cell_type": "code",
   "execution_count": null,
   "metadata": {},
   "outputs": [],
   "source": [
    "age = 18\n",
    "status = \"Mayor de edad\" if age >= 18 else \"Menor de edad\"\n",
    "print(status)"
   ]
  },
  {
   "cell_type": "markdown",
   "metadata": {},
   "source": [
    "### **8. Ejemplos Prácticos**"
   ]
  },
  {
   "cell_type": "markdown",
   "metadata": {},
   "source": [
    "Decidir la edad de acceso"
   ]
  },
  {
   "cell_type": "code",
   "execution_count": null,
   "metadata": {},
   "outputs": [],
   "source": [
    "age = 25\n",
    "if age >= 21:\n",
    "    print(\"Acceso completo\")\n",
    "elif age >= 18:\n",
    "    print(\"Acceso restringido\")\n",
    "else:\n",
    "    print(\"Acceso denegado\")"
   ]
  },
  {
   "cell_type": "markdown",
   "metadata": {},
   "source": [
    "Chequeo de contraseña"
   ]
  },
  {
   "cell_type": "code",
   "execution_count": null,
   "metadata": {},
   "outputs": [],
   "source": [
    "password = \"securepassword\"\n",
    "if len(password) < 8:\n",
    "    print(\"La contraseña es demasiado corta.\")\n",
    "elif password.isalpha():\n",
    "    print(\"La contraseña debe contener números.\")\n",
    "else:\n",
    "    print(\"La contraseña es válida.\")"
   ]
  }
 ],
 "metadata": {
  "kernelspec": {
   "display_name": "Python 3",
   "language": "python",
   "name": "python3"
  },
  "language_info": {
   "codemirror_mode": {
    "name": "ipython",
    "version": 3
   },
   "file_extension": ".py",
   "mimetype": "text/x-python",
   "name": "python",
   "nbconvert_exporter": "python",
   "pygments_lexer": "ipython3",
   "version": "3.11.2"
  }
 },
 "nbformat": 4,
 "nbformat_minor": 2
}

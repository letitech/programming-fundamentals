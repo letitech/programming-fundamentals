{
 "cells": [
  {
   "cell_type": "markdown",
   "metadata": {},
   "source": [
    "# **Manejo de Archivos en Python**"
   ]
  },
  {
   "cell_type": "markdown",
   "metadata": {},
   "source": [
    "## **Objetivo**\n",
    "Al finalizar esta lección, los estudiantes deben ser capaces de crear programas que trabajen con archivos de manera autónoma, aplicando buenas prácticas en el manejo de recursos."
   ]
  },
  {
   "cell_type": "markdown",
   "metadata": {},
   "source": [
    "<div>\n",
    "    <p>1. Crea un programa que solicite al usuario ingresar un texto y lo guarde en un archivo llamado texto_usuario.txt.</p>\n",
    "    <p>2. Escribe un programa que lea el archivo texto_usuario.txt creado en el ejercicio anterior y muestre su contenido en pantalla.</p>\n",
    "    <p>3. Crea un programa que lea un archivo de texto y cuente cuántas líneas contiene.</p>\n",
    "    <p>4. Escribe un programa que lea un archivo de texto y cuente cuántas palabras contiene.</p>\n",
    "    <p>5. Crea un programa que lea un archivo de texto y solicite al usuario una palabra. El programa debe indicar si la palabra se encuentra en el archivo y cuántas veces aparece.</p>\n",
    "    <p>6. Escribe un programa que lea un archivo de texto y cree una copia exacta de su contenido en un nuevo archivo llamado copia.txt.\n",
    "    <p>7. Crea un programa que abra el archivo texto_usuario.txt en modo de agregar, solicite al usuario nuevo contenido y lo añada al final del archivo.</p>\n",
    "    <p>8. Escribe un programa que lea un archivo de texto y cuente cuántos caracteres contiene, incluyendo espacios.</p>\n",
    "    <p>9. Crea un programa que lea un archivo de texto, convierta todo su contenido a mayúsculas y lo guarde en un archivo llamado texto_mayusculas.txt.</p>\n",
    "    <p>10. Escribe un programa que abra un archivo en modo escritura y borre todo su contenido.</p>\n",
    "    <p>11. Crea un programa que solicite al usuario ingresar una lista de elementos (por ejemplo, una lista de compras) y guarde cada elemento en una nueva línea dentro de un archivo.</p>\n",
    "    <p>12. Crea un programa que lea un archivo de texto, divida su contenido en dos partes y guarde cada parte en archivos separados llamados parte1.txt y parte2.txt.</p>\n",
    "    <p>13. Escribe un programa que lea un archivo de texto, reemplace todas las apariciones de una palabra dada por el usuario, y guarde el resultado en un nuevo archivo.</p>\n",
    "    <p>14. Crea un programa que compare el contenido de dos archivos de texto y determine si son iguales o diferentes.</p>\n",
    "    <p>15. Escribe un programa que lea un archivo de texto y cuente cuántas palabras únicas (sin repetición) contiene.</p>\n",
    "    <p>16. Crea un programa que lea un archivo de texto, ordene sus líneas alfabéticamente y guarde el resultado en un nuevo archivo.</p>\n",
    "    <p>17. Escribe un programa que solicite al usuario el nombre de un archivo y lo elimine del sistema (asegúrate de verificar que el archivo exista antes de intentar eliminarlo).</p>\n",
    "</div>"
   ]
  }
 ],
 "metadata": {
  "kernelspec": {
   "display_name": "Python 3",
   "language": "python",
   "name": "python3"
  },
  "language_info": {
   "codemirror_mode": {
    "name": "ipython",
    "version": 3
   },
   "file_extension": ".py",
   "mimetype": "text/x-python",
   "name": "python",
   "nbconvert_exporter": "python",
   "pygments_lexer": "ipython3",
   "version": "3.11.2"
  }
 },
 "nbformat": 4,
 "nbformat_minor": 2
}

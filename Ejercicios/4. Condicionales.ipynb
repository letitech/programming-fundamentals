{
 "cells": [
  {
   "cell_type": "markdown",
   "metadata": {},
   "source": [
    "# **Condicionales**\n"
   ]
  },
  {
   "cell_type": "markdown",
   "metadata": {},
   "source": [
    "## **Objetivo**\n",
    "\n",
    "Al finalizar esta lección, los estudiantes comprenderán cómo utilizar estructuras condicionales en Python para tomar decisiones en su código, utilizando las instrucciones if, elif y else.\n"
   ]
  },
  {
   "cell_type": "markdown",
   "metadata": {},
   "source": [
    "<p>1. Escribe un programa que solicite al usuario ingresar un número y determine si el número es positivo, negativo o cero.</p>\n",
    "<p>2. Escribe un programa que solicite al usuario ingresar un número entero y determine si es par o impar.</p>\n",
    "<p>3. Escribe un programa que solicite al usuario ingresar una contraseña dos veces y verifique si ambas coinciden. Si no coinciden, el programa debe mostrar un mensaje de error.</p>\n",
    "<p>4. Escribe un programa que solicite al usuario ingresar tres números, determine cuál es el mayor entre los tres, cuál es el mayor entre los dos restantes y los muestre en orden descendente.</p>\n",
    "<p>5. Escribe un programa que solicite al usuario ingresar una calificación (1 - 10) y muestre lo correspondiente según la siguiente tabla:</p>\n",
    "<div>\n",
    "    <table>\n",
    "        <tr>\n",
    "            <td>Sobresaliente</td>\n",
    "            <td>9 – 10</td>\n",
    "        </tr>\n",
    "        <tr>\n",
    "            <td>Notable</td>\n",
    "            <td>7 – 8</td>\n",
    "        </tr>\n",
    "        <tr>\n",
    "            <td>Aprobado</td>\n",
    "            <td>5 – 6</td>\n",
    "        </tr>\n",
    "        <tr>\n",
    "            <td>Suspendido</td>\n",
    "            <td>0 – 4.9</td>\n",
    "        </tr>\n",
    "    </table>\n",
    "</div>\n",
    "<p>6. Escribe un programa que solicite al usuario ingresar dos números y un operador (+, -, \\*, /). Luego, realiza la operación correspondiente y muestra el resultado.</p>\n",
    "<p>7. Escribe un programa que solicite al usuario el precio de un producto y la cantidad comprada. Si el total de la compra es mayor a 55 000 XAF, aplica un descuento del 10%. Muestra el total a pagar.</p>\n",
    "<p>8. Escribe un programa que solicite al usuario su peso (en kilogramos) y su altura (en metros), y calcule su Índice de Masa Corporal (IMC). Luego, determina su categoría según la siguiente tabla:</p>\n",
    "<div>\n",
    "    <table>\n",
    "        <tr>\n",
    "            <td>Bajo peso</td>\n",
    "            <td>IMC < 18.5</td>\n",
    "        </tr>\n",
    "        <tr>\n",
    "            <td>Peso normal</td>\n",
    "            <td>18.5 <= IMC < 24.9</td>\n",
    "        </tr>\n",
    "        <tr>\n",
    "            <td>Sobrepeso</td>\n",
    "            <td>25 <= IMC < 29.9</td>\n",
    "        </tr>\n",
    "        <tr>\n",
    "            <td>Obesidad</td>\n",
    "            <td>IMC >= 30</td>\n",
    "        </tr>\n",
    "    </table>\n",
    "</div>\n",
    "<p>9. Escribe un programa que solicite al usuario ingresar las longitudes de los tres lados de un triángulo y determine si el triángulo es equilátero, isósceles o escaleno.</p>\n",
    "<p>10. Escribe un programa que solicite al usuario ingresar un carácter y determine si es una vocal o una consonante. Ignora los caracteres que no sean letras.</p>\n",
    "<p>11. Escribe un programa que solicite al usuario ingresar dos números enteres y determine si el primero es múltiplo del segundo.</p>\n"
   ]
  }
 ],
 "metadata": {
  "kernelspec": {
   "display_name": "Python 3",
   "language": "python",
   "name": "python3"
  },
  "language_info": {
   "codemirror_mode": {
    "name": "ipython",
    "version": 3
   },
   "file_extension": ".py",
   "mimetype": "text/x-python",
   "name": "python",
   "nbconvert_exporter": "python",
   "pygments_lexer": "ipython3",
   "version": "3.11.2"
  }
 },
 "nbformat": 4,
 "nbformat_minor": 2
}

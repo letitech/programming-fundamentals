{
 "cells": [
  {
   "cell_type": "markdown",
   "metadata": {},
   "source": [
    "# **Lección: Manejo de Errores en Python**"
   ]
  },
  {
   "cell_type": "markdown",
   "metadata": {},
   "source": [
    "## **Objetivo**\n",
    "Al finalizar esta lección, los estudiantes comprenderán cómo manejar errores y excepciones en Python para crear programas más robustos y confiables. Aprenderán a utilizar las sentencias `try`, `except`, `else`, `finally`, y cómo definir excepciones personalizadas."
   ]
  }
 ],
 "metadata": {
  "language_info": {
   "name": "python"
  }
 },
 "nbformat": 4,
 "nbformat_minor": 2
}

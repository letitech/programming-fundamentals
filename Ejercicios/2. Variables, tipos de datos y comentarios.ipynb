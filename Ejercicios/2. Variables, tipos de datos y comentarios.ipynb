{
 "cells": [
  {
   "cell_type": "markdown",
   "metadata": {},
   "source": [
    "# **Variables, Tipos de Datos y Comentarios**"
   ]
  },
  {
   "cell_type": "markdown",
   "metadata": {},
   "source": [
    "## **Objetivo**\n",
    "Al finalizar esta lección, los estudiantes comprenderán qué son las variables, cómo se declaran y utilizan en Python, los diferentes tipos de datos disponibles y cómo escribir comentarios efectivos en el código."
   ]
  },
  {
   "cell_type": "markdown",
   "metadata": {},
   "source": [
    "1.\tInformación Personal\n",
    "* Crea una variable llamada apellido y asígnale tu apellido.\n",
    "* Crea una variable llamada pais y asígnale tu país de residencia.\n",
    "* Crea una variable llamada ciudad y asígnale tu ciudad de residencia.\n",
    "* Imprime todas las variables.\n",
    "2.\tDetalles del Trabajo\n",
    "*\tCrea una variable llamada trabajo y asígnale el nombre de tu trabajo o profesión.\n",
    "*\tCrea una variable llamada experiencia y asígnale los años de experiencia en tu trabajo.\n",
    "*\tCrea una variable llamada empresa y asígnale el nombre de la empresa donde trabajas.\n",
    "*\tImprime todas las variables.\n",
    "3.\tInformación Académica\n",
    "*\tCrea una variable llamada titulo y asígnale el nombre de tu título académico.\n",
    "*\tCrea una variable llamada universidad y asígnale el nombre de tu universidad.\n",
    "*\tCrea una variable llamada promedio y asígnale tu promedio académico.\n",
    "*\tImprime todas las variables.\n",
    "4.\tInformación Financiera\n",
    "*\tCrea una variable llamada salario y asígnale tu salario mensual.\n",
    "*\tCrea una variable llamada ahorros y asígnale la cantidad de ahorros que tienes.\n",
    "*\tCrea una variable llamada gastos_mensuales y asígnale tus gastos mensuales.\n",
    "*\tImprime todas las variables.\n",
    "5.\tInformación de Contacto\n",
    "*\tCrea una variable llamada telefono y asígnale tu número de teléfono.\n",
    "*\tCrea una variable llamada email y asígnale tu dirección de correo electrónico.\n",
    "*\tCrea una variable llamada direccion y asígnale tu dirección de residencia.\n",
    "*\tImprime todas las variables.\n",
    "6.\tInformación de Pasatiempos\n",
    "*\tCrea una variable llamada hobby_principal y asígnale tu hobby principal.\n",
    "*\tCrea una variable llamada hobby_secundario y asígnale otro hobby que te guste.\n",
    "*\tCrea una variable llamada horas_hobby y asígnale la cantidad de horas que dedicas a tus hobbies por semana.\n",
    "*\tImprime todas las variables.\n",
    "7.\tDetalles del Vehículo\n",
    "*\tCrea una variable llamada marca y asígnale la marca de tu vehículo.\n",
    "*\tCrea una variable llamada modelo y asígnale el modelo de tu vehículo.\n",
    "*\tCrea una variable llamada año y asígnale el año de fabricación de tu vehículo.\n",
    "*\tImprime todas las variables.\n",
    "8.\tInformación del Libro Favorito\n",
    "*\tCrea una variable llamada titulo_libro y asígnale el título de tu libro favorito.\n",
    "*\tCrea una variable llamada autor_libro y asígnale el autor de tu libro favorito.\n",
    "*\tCrea una variable llamada num_paginas y asígnale el número de páginas de tu libro favorito.\n",
    "*\tImprime todas las variables.\n",
    "9.\tComentarios\n",
    "*\tAñade comentarios multilínea al inicio de cada ejercicio, poniendo los siguientes datos uno debajo del otro: Título, breve descripción, fecha de creación, Autor.\n"
   ]
  }
 ],
 "metadata": {
  "kernelspec": {
   "display_name": "Python 3",
   "language": "python",
   "name": "python3"
  },
  "language_info": {
   "codemirror_mode": {
    "name": "ipython",
    "version": 3
   },
   "file_extension": ".py",
   "mimetype": "text/x-python",
   "name": "python",
   "nbconvert_exporter": "python",
   "pygments_lexer": "ipython3",
   "version": "3.11.2"
  }
 },
 "nbformat": 4,
 "nbformat_minor": 2
}

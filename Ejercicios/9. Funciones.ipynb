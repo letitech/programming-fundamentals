{
 "cells": [
  {
   "cell_type": "markdown",
   "metadata": {},
   "source": [
    "# **Funciones en Python**"
   ]
  },
  {
   "cell_type": "markdown",
   "metadata": {},
   "source": [
    "## **Objetivo**\n",
    "Al finalizar esta lección, los estudiantes comprenderán cómo definir, llamar y utilizar funciones en Python para organizar y reutilizar código de manera eficiente. También aprenderán a trabajar con parámetros, valores de retorno y funciones lambda."
   ]
  },
  {
   "cell_type": "markdown",
   "metadata": {},
   "source": [
    "<div>\n",
    "    <p>1. Escribe una función llamada es_par que reciba un número entero como argumento y devuelva True si es par o False si es impar.</p>\n",
    "    <p>2. Crea una función llamada area_circulo que reciba el radio de un círculo y devuelva el área. Usa la fórmula  (puedes usar math.pi para obtener el valor de π)..</p>\n",
    "    <p>3. Escribe una función llamada factorial que calcule el factorial de un número entero no negativo.</p>\n",
    "    <p>4. Escribe una función llamada celsius_a_fahrenheit que reciba una temperatura en grados Celsius y la convierta a Fahrenheit.</p>\n",
    "    <p>5. Crea una función llamada invertir_cadena que reciba una cadena de texto y devuelva la cadena invertida.</p>\n",
    "    <p>6. Crea una función llamada contar_vocales que reciba una cadena de texto y devuelva el número de vocales que contiene.</p>\n",
    "    <p>7. Crea una función llamada es_palindromo que reciba una cadena de texto y devuelva True si es un palíndromo (se lee igual al derecho y al revés) y False si no lo es.</p>\n",
    "    <p>8. Escribe una función llamada fibonacci que reciba un número entero n y devuelva el enésimo número en la secuencia de Fibonacci.</p>\n",
    "    <p>9. Crea una función llamada contar_palabras que reciba una cadena de texto y devuelva el número de palabras que contiene.</p>\n",
    "    <p>10. Escribe una función llamada mayor_menor que reciba una lista de números y devuelva el mayor y el menor valor.</p>\n",
    "    <p>11. Escribe una función llamada ordenar_lista que reciba una lista de números y la devuelva ordenada de menor a mayor sin usar la función sort().\n",
    "    <p>12. Crea una función llamada numeros_pares que reciba una lista de números y devuelva una nueva lista solo con los números pares.</p>\n",
    "    <p>13. Escribe una función llamada minutos_a_horas que reciba un número de minutos y lo convierta en horas y minutos.</p>\n",
    "    <p>14. Escribe una función llamada eliminar_duplicados que reciba una lista y devuelva una nueva lista sin elementos duplicados.</p>\n",
    "    <p>15. Escribe un programa que simule una calculadora básica. El programa debe implementar las siguientes funciones para realizar las operaciones aritméticas:</p>\n",
    "    <div style=\"margin-left: 20px;\">\n",
    "        <ol>\n",
    "            <li>Suma: Una función suma(a, b) que reciba dos números y devuelva su suma.</li>\n",
    "            <li>Resta: Una función resta(a, b) que reciba dos números y devuelva la resta del segundo número al primero.</li>\n",
    "            <li>Multiplicación: Una función multiplicacion(a, b) que reciba dos números y devuelva su producto.</li>\n",
    "            <li>División: Una función division(a, b) que reciba dos números y devuelva la división del primero entre el segundo. La función debe manejar la división por cero.</li>\n",
    "            <li>Exponenciación: Una función potencia(a, b) que reciba dos números y devuelva el resultado de elevar el primero al segundo.</li>\n",
    "        </ol>\n",
    "        <p>El programa principal debe presentar al usuario un menú en el cual podrá elegir la operación que desee realizar (suma, resta, multiplicación, división o exponenciación), así como una opción de salir del programa. Al elegir la operación el programa le solicitará que ingrese dos números. Dependiendo de la operación elegida, el programa debe llamar a la función correspondiente, mostrar el resultado y volver al menú.</p>\n",
    "    </div>\n",
    "    <p style=\"color:red;\"><b>Nota:</b> Asegúrate de manejar los errores en todos los ejercicios, como la entrada de caracteres no válidos, la división por cero, etc.</p>\n",
    "</div>"
   ]
  }
 ],
 "metadata": {
  "kernelspec": {
   "display_name": "Python 3",
   "language": "python",
   "name": "python3"
  },
  "language_info": {
   "codemirror_mode": {
    "name": "ipython",
    "version": 3
   },
   "file_extension": ".py",
   "mimetype": "text/x-python",
   "name": "python",
   "nbconvert_exporter": "python",
   "pygments_lexer": "ipython3",
   "version": "3.11.2"
  }
 },
 "nbformat": 4,
 "nbformat_minor": 2
}

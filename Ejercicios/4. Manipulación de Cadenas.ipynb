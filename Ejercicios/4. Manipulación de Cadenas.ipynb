{
 "cells": [
  {
   "cell_type": "markdown",
   "metadata": {},
   "source": [
    "# **Manipulación de Cadenas**"
   ]
  },
  {
   "cell_type": "markdown",
   "metadata": {},
   "source": [
    "## **Objetivo**\n",
    "El objetivo de esta lección es que los estudiantes adquieran un entendimiento profundo de cómo trabajar con cadenas (strings) en Python, aprendiendo a realizar diversas manipulaciones y transformaciones comunes, así como utilizar métodos y funciones integradas que permiten trabajar eficientemente con este tipo de dato."
   ]
  },
  {
   "cell_type": "markdown",
   "metadata": {},
   "source": [
    "1. Contar caracteres: Escribe un programa que solicite una cadena al usuario y cuente cuántos caracteres tiene, excluyendo los espacios.\n",
    "\n",
    "2. Palíndromo: Escribe un programa que solicite al usuario una palabra o frase y determine si es un palíndromo (se lee igual hacia adelante y hacia atrás).\n",
    "\n",
    "3. Reemplazo de palabras: Solicita una cadena y dos palabras al usuario. Reemplaza todas las ocurrencias de la primera palabra en la cadena con la segunda palabra.\n",
    "\n",
    "4. Contar vocales: Crea un programa que cuente cuántas vocales (a, e, i, o, u) hay en una cadena proporcionada por el usuario.\n",
    "\n",
    "5. Invertir cadena: Escribe un programa que solicite una cadena al usuario y devuelva la cadena invertida.\n",
    "\n",
    "6. Convertir a mayúsculas y minúsculas: Crea un programa que solicite una cadena al usuario y luego muestre la cadena en mayúsculas y en minúsculas.\n",
    "\n",
    "7. Primera letra en mayúscula: Escribe un programa que convierta la primera letra de cada palabra en una cadena a mayúscula (capitalización de las palabras).\n",
    "\n",
    "8. Eliminar espacios: Solicita una cadena al usuario y elimina todos los espacios en blanco que tenga.\n",
    "\n",
    "9. Contar palabras: Escribe un programa que cuente cuántas palabras tiene una cadena introducida por el usuario.\n",
    "\n",
    "10. Sustituir vocales por números: Crea un programa que reemplace todas las vocales de una cadena con los siguientes números:\n",
    "* a = 1\n",
    "* e = 2\n",
    "* i = 3\n",
    "* o = 4\n",
    "* u = 5\n",
    "\n",
    "11. Palabra más larga: Escribe un programa que solicite una oración al usuario y determine cuál es la palabra más larga en la cadena.\n",
    "\n",
    "12. Frecuencia de letras: Escribe un programa que solicite una cadena y una letra al usuario y determine cuántas veces aparece esa letra en la cadena.\n",
    "\n",
    "13. Repetición de caracteres: Crea un programa que duplique cada carácter de una cadena proporcionada por el usuario. Ejemplo: \"hola\" → \"hhoollaa\"\n",
    "\n",
    "14. Contar consonantes: Solicita una cadena al usuario y cuenta cuántas consonantes tiene.\n",
    "\n",
    "15. Eliminar vocales: Crea un programa que elimine todas las vocales de una cadena proporcionada por el usuario.\n",
    "\n",
    "16. Intercambiar mayúsculas y minúsculas: Escribe un programa que intercambie las mayúsculas y minúsculas de una cadena. Ejemplo: \"Hola Mundo\" → \"hOLA mUNDO\".\n",
    "\n",
    "17. Encontrar subcadena: Solicita una cadena y una subcadena al usuario, y verifica si la subcadena está presente dentro de la cadena principal.\n",
    "\n",
    "18. Concatenación de palabras: Crea un programa que solicite varias palabras al usuario y las concatene en una sola cadena, separadas por comas.\n",
    "\n",
    "19. Comprobar si todas las palabras empiezan con la misma letra: Solicita una frase al usuario y determina si todas las palabras en la frase comienzan con la misma letra.\n",
    "\n",
    "20. Comparar longitud de cadenas: Crea un programa que tome dos cadenas e indique cuál de las dos tiene más caracteres, o si ambas tienen la misma longitud."
   ]
  }
 ],
 "metadata": {
  "language_info": {
   "name": "python"
  }
 },
 "nbformat": 4,
 "nbformat_minor": 2
}

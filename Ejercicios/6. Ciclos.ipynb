{
 "cells": [
  {
   "cell_type": "markdown",
   "metadata": {},
   "source": [
    "# **Ciclos**\n"
   ]
  },
  {
   "cell_type": "markdown",
   "metadata": {},
   "source": [
    "## **Objetivo**\n",
    "\n",
    "Al finalizar esta lección, los estudiantes comprenderán cómo utilizar los ciclos for y while en Python para repetir bloques de código, así como las técnicas para controlar la iteración utilizando break, continue, y la función range().\n"
   ]
  },
  {
   "cell_type": "markdown",
   "metadata": {},
   "source": [
    "<div>\n",
    "    <p>1. Escribe un programa que sume los primeros 100 números (1 a 100).</p>\n",
    "    <p>2. Escribe un programa que solicite al usuario una cadena y un número entero, y luego imprima la cadena ese número de veces.</p>\n",
    "    <p>3. Escribe un programa que solicite al usuario un número y luego imprima la tabla de multiplicar de ese número del 1 al 10.</p>\n",
    "    <p>4. Escribe un programa que solicite al usuario un número entero y calcule su factorial.</p>\n",
    "    <p>5. Escribe un programa que genere un número aleatorio entre 1 y 100 y permita al usuario adivinarlo. El programa debe dar pistas indicando si el número es mayor o menor.</p>\n",
    "    <p>6. Escribe un programa que imprima los primeros 15 números de la serie de Fibonacci.</p>\n",
    "    <p>7. Escribe un programa que solicite al usuario ingresar una cadena y una letra, y cuente cuántas palabras en la cadena empiezan con esa letra.</p>\n",
    "    <p>8. Escribe un programa que genere un patrón de asteriscos en forma de pirámide con una altura específica.</p>\n",
    "    9. Escribe un programa que solicite al usuario un número e imprima una cuenta regresiva desde ese número hasta cero.</p>\n",
    "    <p>10. Escribe un programa que solicite al usuario una contraseña y use un bucle para asegurarse de que la contraseña tenga al menos 8 caracteres, incluya una letra mayúscula, una minúscula y un número.</p>\n",
    "    <p>11. Escribe un programa que solicite al usuario ingresar un nombre de usuario y una contraseña. El programa debe verificar si las credenciales coinciden con las almacenadas en una base de datos simulada (los datos correctos en variables). Si las credenciales son correctas, debe mostrar un mensaje de bienvenida; de lo contrario, debe solicitar las credenciales nuevamente.</p>\n",
    "    <p>12. Crea un programa que simule transacciones bancarias, permitiendo al usuario realizar depósitos y retiros en una cuenta bancaria. Requisitos:</p>\n",
    "    <ol style=\"margin-left: 20px;\">\n",
    "        <li>Saldo inicial: El programa debe iniciar con un saldo inicial (puede ser 0).</li>\n",
    "        <li>Transacciones: Permitir al usuario elegir entre realizar un depósito o un retiro.</li>\n",
    "        <li>Depósito: Si el usuario elige depositar, solicitar el monto a depositar y sumarlo al saldo actual.</li>\n",
    "        <li>Retiro: Si el usuario elige retirar, solicitar el monto a retirar y restarlo del saldo actual. Si el monto a retirar es mayor que el saldo actual, mostrar un mensaje de error y no realizar la transacción.</li>\n",
    "        <li>Continuar: Después de cada transacción, preguntar al usuario si desea realizar otra transacción o terminar.</li>\n",
    "        <li>Saldo final: Al finalizar, mostrar el saldo final de la cuenta.</li>\n",
    "    </ol>\n",
    "</div>\n"
   ]
  }
 ],
 "metadata": {
  "kernelspec": {
   "display_name": "Python 3",
   "language": "python",
   "name": "python3"
  },
  "language_info": {
   "codemirror_mode": {
    "name": "ipython",
    "version": 3
   },
   "file_extension": ".py",
   "mimetype": "text/x-python",
   "name": "python",
   "nbconvert_exporter": "python",
   "pygments_lexer": "ipython3",
   "version": "3.11.2"
  }
 },
 "nbformat": 4,
 "nbformat_minor": 2
}

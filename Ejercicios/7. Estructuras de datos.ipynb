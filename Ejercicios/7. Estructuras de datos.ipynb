{
 "cells": [
  {
   "cell_type": "markdown",
   "metadata": {},
   "source": [
    "# **Estructuras de Datos**"
   ]
  },
  {
   "cell_type": "markdown",
   "metadata": {},
   "source": [
    "## **Objetivo**\n",
    "Al finalizar esta lección, los estudiantes entenderán las principales estructuras de datos en Python, cómo funcionan y cómo utilizarlas en la programación."
   ]
  },
  {
   "cell_type": "markdown",
   "metadata": {},
   "source": [
    "<div>\n",
    "    <p>1. Escribir un programa que almacene las asignaturas de un curso (por ejemplo, Matemáticas, Física, Química, Historia y Lengua) en una lista y la muestre por pantalla el mensaje Yo estudio <b>asignatura</b>, donde <b>asignatura</b> es cada una de las asignaturas de la lista.</p>\n",
    "    <p>2. Escribir un programa que almacene el abecedario en una lista, elimine de la lista las letras que ocupen posiciones múltiplos de 3, y muestre por pantalla la lista resultante.</p>\n",
    "    <p>3. Crea un programa que permita al usuario agregar, eliminar y buscar contactos en un diccionario donde las claves son los nombres y los valores son los números de teléfono.</p>\n",
    "    <p>4. Escribir un programa que almacene los vectores (1,2,3) y (-1,0,2) en dos listas y muestre por pantalla su producto escalar.</p>\n",
    "    <p>5. Escribir un programa que cree un diccionario vacío y lo vaya llenado con información sobre una persona (por ejemplo, nombre, edad, sexo, teléfono, correo electrónico, etc.) que se le pida al usuario. Cada vez que se añada un nuevo dato debe imprimirse el contenido del diccionario.</p>\n",
    "    <p>6. Escribe un programa que mantenga un historial de compras usando un diccionario, donde las claves son los nombres de los productos y los valores son las cantidades compradas. Permite al usuario agregar, actualizar y ver productos.</p>\n",
    "    <p>7. Escribir un programa que cree un diccionario de traducción español-inglés. El usuario introducirá las palabras en español e inglés separadas por dos puntos, y cada par <b>palabra</b>:<b>traducción</b> separados por comas. El programa debe crear un diccionario con las palabras y sus traducciones. Después pedirá una frase en español y utilizará el diccionario para traducirla palabra a palabra. Si una palabra no está en el diccionario debe dejarla sin traducir.</p>\n",
    "    <p>8. Escribir un programa que permita gestionar la base de datos de clientes de una empresa. Los clientes se guardarán en un diccionario en el que la clave de cada cliente será su DIP, y el valor será otro diccionario con los datos del cliente (nombre, dirección, teléfono, correo, preferente), donde preferente tendrá el valor True si se trata de un cliente preferente. El programa debe preguntar al usuario por una opción del siguiente menú: (1) Añadir cliente, (2) Eliminar cliente, (3) Mostrar cliente, (4) Listar todos los clientes, (5) Listar clientes preferentes, (6) Terminar. En función de la opción elegida el programa tendrá que hacer lo siguiente:</p>\n",
    "    <ol style=\"margin-left: 20px;\">\n",
    "        <li>Preguntar los datos del cliente, crear un diccionario con los datos y añadirlo a la base de datos.</li>\n",
    "        <li>Preguntar por el DIP del cliente y eliminar sus datos de la base de datos.</li>\n",
    "        <li>Preguntar por el DIP del cliente y mostrar sus datos.</li>\n",
    "        <li>Mostrar lista de todos los clientes de la base datos con su DIP y nombre.</li>\n",
    "        <li>Mostrar la lista de clientes preferentes de la base de datos con su DIP y nombre.</li>\n",
    "        <li>Terminar el programa.</li>\n",
    "    </ol>\n",
    "</div>"
   ]
  }
 ],
 "metadata": {
  "kernelspec": {
   "display_name": "Python 3",
   "language": "python",
   "name": "python3"
  },
  "language_info": {
   "codemirror_mode": {
    "name": "ipython",
    "version": 3
   },
   "file_extension": ".py",
   "mimetype": "text/x-python",
   "name": "python",
   "nbconvert_exporter": "python",
   "pygments_lexer": "ipython3",
   "version": "3.11.2"
  }
 },
 "nbformat": 4,
 "nbformat_minor": 2
}

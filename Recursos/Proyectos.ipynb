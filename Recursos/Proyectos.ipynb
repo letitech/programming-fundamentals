{
 "cells": [
  {
   "cell_type": "markdown",
   "metadata": {},
   "source": [
    "# **Proyectos**"
   ]
  },
  {
   "cell_type": "markdown",
   "metadata": {},
   "source": [
    "## **Objetivo**\n",
    "El objetivo de esta lección es que los estudiantes adquieran un entendimiento profundo de cómo trabajar con cadenas (strings) en Python, aprendiendo a realizar diversas manipulaciones y transformaciones comunes, así como utilizar métodos y funciones integradas que permiten trabajar eficientemente con este tipo de dato."
   ]
  },
  {
   "cell_type": "markdown",
   "metadata": {},
   "source": [
    "1. Crea una calculadora que permita realizar operaciones básicas como suma, resta, multiplicación y división. Debe solicitar al usuario los números y la operación a realizar.\n",
    "2. Desarrolla un programa que genere contraseñas seguras de una longitud especificada por el usuario, combinando letras, números y símbolos.\n",
    "3. Crea un programa que convierta unidades de medida (longitud, peso, temperatura) entre diferentes sistemas, por ejemplo, de kilómetros a millas, de Celsius a Fahrenheit, etc.\n",
    "4. Implementa el clásico juego del ahorcado. El programa seleccionará una palabra aleatoria y el jugador intentará adivinarla antes de que se completen las oportunidades.\n",
    "5. Crea un reloj que muestre la hora actual en formato de 12 o 24 horas. Además, incluye funciones como una alarma y cronómetro.\n",
    "6. Desarrolla un programa para gestionar tareas pendientes (to-do list). El usuario podrá añadir, ver, editar y eliminar tareas. Almacena las tareas en un archivo para que persistan entre ejecuciones.\n",
    "7. Implementa un simulador de cajero automático donde el usuario puede consultar su saldo, retirar dinero, depositar y ver un historial de transacciones.\n",
    "8. Crea un programa que genere historias aleatorias usando plantillas y palabras ingresadas por el usuario, como nombres de personas, lugares y objetos.\n",
    "9. Desarrolla un programa que calcule el IMC de una persona en función de su peso y altura, e indique si está en un rango saludable.\n",
    "10. Crea un juego donde el programa elija un número al azar entre un rango y el usuario deba adivinarlo en una cantidad limitada de intentos, proporcionando pistas como \"más alto\" o \"más bajo\".\n",
    "11. Desarrolla un programa que permita almacenar, buscar, actualizar y eliminar contactos de una agenda. Almacena los contactos en un archivo para que se guarden entre ejecuciones.\n",
    "12. Crea un programa que calcule los pagos mensuales de un préstamo en función del monto, la tasa de interés y el número de meses. También debe mostrar el total a pagar al final del préstamo.\n",
    "13. Implementa el clásico juego de \"piedra, papel o tijera\" donde el jugador compite contra la computadora. La computadora debe seleccionar su jugada de forma aleatoria.\n",
    "14. Desarrolla un programa que permita convertir entre diferentes monedas usando tasas de cambio actualizadas (puedes usar tasas fijas para simplificar).\n",
    "15. Crea un programa que simule el lanzamiento de un dado de seis caras y muestre el resultado al usuario. Permite realizar múltiples lanzamientos y muestra las estadísticas.\n",
    "16. Desarrolla un sistema que permita a un usuario registrar productos, actualizar el stock, eliminar productos y ver el inventario completo. Guarda los datos en un archivo para persistir la información.\n",
    "17. Crea un juego donde el programa elija una palabra al azar y la desordene. El jugador debe adivinar la palabra original en un número limitado de intentos.\n",
    "18. Desarrolla un simulador de una tienda con varias cajas registradoras. Cada caja tendrá una cola de clientes que esperan ser atendidos. Simula el tiempo que cada cliente pasa en la cola hasta ser atendido.\n",
    "19. Crea un programa que calcule la diferencia entre dos fechas ingresadas por el usuario, indicando cuántos días, semanas, meses o años han transcurrido.\n",
    "20. Desarrolla el juego de Tic-Tac-Toe (tres en raya) para dos jugadores en modo consola. El programa debe verificar quién es el ganador o si el juego termina en empate.\n",
    "21. Desarrolla un sistema en el que los maestros puedan añadir calificaciones para los estudiantes, calculando el promedio y mostrando si están aprobados o no. Implementa reportes personalizados y permite almacenar los datos en archivos.\n",
    "22. Crea un sistema de tienda que permita agregar productos al carrito, eliminar productos, calcular el total a pagar y aplicar descuentos. Implementa un sistema de inventario que se actualice en tiempo real.\n",
    "23. Desarrolla un sistema de registro e inicio de sesión para usuarios. Permite crear cuentas con nombres de usuario y contraseñas, y valida la autenticidad de los usuarios cuando intentan acceder al sistema.\n",
    "24. Desarrolla una versión del juego de cartas Blackjack (21), donde el jugador compite contra la computadora. Implementa reglas como la opción de \"doblar\" o \"dividir\" cartas.\n",
    "25. Crea un programa que permita gestionar los empleados de una empresa, almacenando información como nombre, puesto, salario, y fecha de contratación. Implementa funciones para calcular el salario mensual, registrar ausencias, y calcular bonificaciones.\n",
    "26. Desarrolla un simulador de subasta en el que los usuarios puedan ofertar por productos. El programa debe registrar las ofertas, mostrar el ganador de la subasta y permitir gestionar los productos subastados.\n",
    "27. Crea un programa que busque palabras o frases específicas en múltiples archivos de texto dentro de una carpeta. Debe mostrar el número de veces que aparece cada palabra y en qué archivos.\n",
    "28. Desarrolla un sistema que genere automáticamente horarios para una semana laboral, asignando empleados a turnos y días específicos. Debe evitar la asignación de turnos consecutivos y permitir cambios manuales.\n",
    "29. Crea una aplicación de chat en la consola que permita a dos usuarios enviar mensajes entre sí desde diferentes ventanas o procesos. Usa archivos para guardar los mensajes o simula un servidor local para la comunicación.\n",
    "30. Desarrolla un sistema que permita a los usuarios comprar boletos para eventos como conciertos o películas. Debe manejar el inventario de boletos, precios, y permitir la reserva de asientos.\n",
    "31. Crea un programa que simule una máquina expendedora de productos. Los usuarios deben poder seleccionar productos, ingresar dinero, recibir cambio y ver el inventario restante.\n",
    "32. Desarrolla un sistema para gestionar libros en una biblioteca. Los usuarios deben poder buscar libros, reservarlos, tomar prestados y devolverlos. Implementa un sistema de penalización por devoluciones tardías.\n",
    "33. Implementa el famoso \"Juego de la vida\" de Conway, un autómata celular que simula la evolución de células en una cuadrícula según reglas predefinidas. Debe permitir al usuario definir el estado inicial y ver el progreso a lo largo del tiempo.\n",
    "34. Crea una aplicación que permita registrar estudiantes con datos como nombre, edad y materias inscritas. Debe permitir agregar, modificar, eliminar y consultar estudiantes. Guarda los datos en un archivo CSV.\n",
    "35. Crea un programa que permita ingresar ingresos y gastos, categorizar las transacciones y generar informes financieros mensuales o anuales. Guarda los datos en archivos CSV y permite exportar los informes.\n",
    "36. Crea un programa que lea archivos CSV y realice análisis como encontrar promedios, máximos, mínimos o buscar patrones en los datos. Implementa funciones para generar gráficos o tablas.\n",
    "37. Desarrolla una aplicación que permita a los usuarios crear perfiles, agregar amigos, enviar mensajes privados y publicar en su \"muro\". Implementa un sistema de notificaciones y guardado de datos en archivos.\n",
    "38. Crea un programa que permita a los usuarios abrir cuentas bancarias, realizar depósitos, retiros y transferencias entre cuentas. Debe mantener un historial de transacciones y calcular intereses mensuales para cuentas de ahorro.\n",
    "39. Desarrolla un sistema que permita gestionar proyectos, dividiendo el trabajo en tareas. El programa debe permitir asignar tareas a usuarios, calcular el progreso general del proyecto y establecer fechas límite.\n",
    "40. Crea un programa que permita a los profesores generar exámenes a partir de un banco de preguntas almacenado en un archivo. El programa debe seleccionar preguntas aleatorias y generar el examen en formato texto."
   ]
  }
 ],
 "metadata": {
  "language_info": {
   "name": "python"
  }
 },
 "nbformat": 4,
 "nbformat_minor": 2
}
